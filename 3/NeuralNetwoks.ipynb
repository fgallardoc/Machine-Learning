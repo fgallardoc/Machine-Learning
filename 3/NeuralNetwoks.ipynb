{
 "cells": [
  {
   "cell_type": "markdown",
   "metadata": {},
   "source": [
    "# Classification with Neural Networks\n",
    "\n",
    "**Neural networks** are a powerful set of machine learning algorithms. Neural network use one or more **hidden layers** of multiple **hidden units** to perform **function approximation**. The use of multiple hidden units in one or more layers, allows neural networks to approximate complex functions. Neural network models capable of approximating complex functions are said to have high **model capacity**. This property allows neural networks to solve complex machine learning problems. \n",
    "\n",
    "However, because of the large number of hidden units, neural networks have many **weights** or **parameters**. This situation often leads to **over-fitting** of neural network models, which limits generalization. Thus, finding optimal hyperparameters when fitting neural network models is essential for good performance. \n",
    "\n",
    "An additional issue with neural networks is **computational complexity**. Many optimization iterations are required. Each optimization iteration requires the update of a large number of parameters.  "
   ]
  },
  {
   "cell_type": "markdown",
   "metadata": {},
   "source": [
    "## Example: Iris dataset\n",
    "\n",
    "As a first example you will use neutral network models to classify the species of iris flowers using the famous iris dataset. \n",
    "\n",
    "As a first step, execute the code in the cell below to load the required packages to run the rest of this notebook. \n",
    "\n",
    "> **Note:** If you are running in Azure Notebooks, make sure that you run the code in the `setup.ipynb` notebook at the start of you session to ensure your environment is correctly configured. "
   ]
  },
  {
   "cell_type": "code",
   "execution_count": 4,
   "metadata": {
    "scrolled": true
   },
   "outputs": [
    {
     "name": "stderr",
     "output_type": "stream",
     "text": [
      "\n",
      "Attaching package: 'dplyr'\n",
      "\n",
      "The following object is masked from 'package:gridExtra':\n",
      "\n",
      "    combine\n",
      "\n",
      "The following objects are masked from 'package:stats':\n",
      "\n",
      "    filter, lag\n",
      "\n",
      "The following objects are masked from 'package:base':\n",
      "\n",
      "    intersect, setdiff, setequal, union\n",
      "\n",
      "Loading required package: lattice\n",
      "\n",
      "Attaching package: 'MLmetrics'\n",
      "\n",
      "The following objects are masked from 'package:caret':\n",
      "\n",
      "    MAE, RMSE\n",
      "\n",
      "The following object is masked from 'package:base':\n",
      "\n",
      "    Recall\n",
      "\n"
     ]
    }
   ],
   "source": [
    "## Import packages\n",
    "library(ggplot2)\n",
    "library(gridExtra)\n",
    "library(repr)\n",
    "library(dplyr)\n",
    "library(caret)\n",
    "library(nnet)\n",
    "library(MLmetrics)\n",
    "\n",
    "options(repr.plot.width=4, repr.plot.height=4) # Set the initial plot area dimensions"
   ]
  },
  {
   "cell_type": "markdown",
   "metadata": {},
   "source": [
    "To get a feel for these data, you will now load and plot them. Execute this code and examine the results. "
   ]
  },
  {
   "cell_type": "code",
   "execution_count": 5,
   "metadata": {},
   "outputs": [
    {
     "data": {
      "text/html": [
       "<table>\n",
       "<caption>A data.frame: 10 × 5</caption>\n",
       "<thead>\n",
       "\t<tr><th scope=col>Sepal.Length</th><th scope=col>Sepal.Width</th><th scope=col>Petal.Length</th><th scope=col>Petal.Width</th><th scope=col>Species</th></tr>\n",
       "\t<tr><th scope=col>&lt;dbl&gt;</th><th scope=col>&lt;dbl&gt;</th><th scope=col>&lt;dbl&gt;</th><th scope=col>&lt;dbl&gt;</th><th scope=col>&lt;fct&gt;</th></tr>\n",
       "</thead>\n",
       "<tbody>\n",
       "\t<tr><td>5.1</td><td>3.5</td><td>1.4</td><td>0.2</td><td>setosa</td></tr>\n",
       "\t<tr><td>4.9</td><td>3.0</td><td>1.4</td><td>0.2</td><td>setosa</td></tr>\n",
       "\t<tr><td>4.7</td><td>3.2</td><td>1.3</td><td>0.2</td><td>setosa</td></tr>\n",
       "\t<tr><td>4.6</td><td>3.1</td><td>1.5</td><td>0.2</td><td>setosa</td></tr>\n",
       "\t<tr><td>5.0</td><td>3.6</td><td>1.4</td><td>0.2</td><td>setosa</td></tr>\n",
       "\t<tr><td>5.4</td><td>3.9</td><td>1.7</td><td>0.4</td><td>setosa</td></tr>\n",
       "\t<tr><td>4.6</td><td>3.4</td><td>1.4</td><td>0.3</td><td>setosa</td></tr>\n",
       "\t<tr><td>5.0</td><td>3.4</td><td>1.5</td><td>0.2</td><td>setosa</td></tr>\n",
       "\t<tr><td>4.4</td><td>2.9</td><td>1.4</td><td>0.2</td><td>setosa</td></tr>\n",
       "\t<tr><td>4.9</td><td>3.1</td><td>1.5</td><td>0.1</td><td>setosa</td></tr>\n",
       "</tbody>\n",
       "</table>\n"
      ],
      "text/latex": [
       "A data.frame: 10 × 5\n",
       "\\begin{tabular}{r|lllll}\n",
       " Sepal.Length & Sepal.Width & Petal.Length & Petal.Width & Species\\\\\n",
       " <dbl> & <dbl> & <dbl> & <dbl> & <fct>\\\\\n",
       "\\hline\n",
       "\t 5.1 & 3.5 & 1.4 & 0.2 & setosa\\\\\n",
       "\t 4.9 & 3.0 & 1.4 & 0.2 & setosa\\\\\n",
       "\t 4.7 & 3.2 & 1.3 & 0.2 & setosa\\\\\n",
       "\t 4.6 & 3.1 & 1.5 & 0.2 & setosa\\\\\n",
       "\t 5.0 & 3.6 & 1.4 & 0.2 & setosa\\\\\n",
       "\t 5.4 & 3.9 & 1.7 & 0.4 & setosa\\\\\n",
       "\t 4.6 & 3.4 & 1.4 & 0.3 & setosa\\\\\n",
       "\t 5.0 & 3.4 & 1.5 & 0.2 & setosa\\\\\n",
       "\t 4.4 & 2.9 & 1.4 & 0.2 & setosa\\\\\n",
       "\t 4.9 & 3.1 & 1.5 & 0.1 & setosa\\\\\n",
       "\\end{tabular}\n"
      ],
      "text/markdown": [
       "\n",
       "A data.frame: 10 × 5\n",
       "\n",
       "| Sepal.Length &lt;dbl&gt; | Sepal.Width &lt;dbl&gt; | Petal.Length &lt;dbl&gt; | Petal.Width &lt;dbl&gt; | Species &lt;fct&gt; |\n",
       "|---|---|---|---|---|\n",
       "| 5.1 | 3.5 | 1.4 | 0.2 | setosa |\n",
       "| 4.9 | 3.0 | 1.4 | 0.2 | setosa |\n",
       "| 4.7 | 3.2 | 1.3 | 0.2 | setosa |\n",
       "| 4.6 | 3.1 | 1.5 | 0.2 | setosa |\n",
       "| 5.0 | 3.6 | 1.4 | 0.2 | setosa |\n",
       "| 5.4 | 3.9 | 1.7 | 0.4 | setosa |\n",
       "| 4.6 | 3.4 | 1.4 | 0.3 | setosa |\n",
       "| 5.0 | 3.4 | 1.5 | 0.2 | setosa |\n",
       "| 4.4 | 2.9 | 1.4 | 0.2 | setosa |\n",
       "| 4.9 | 3.1 | 1.5 | 0.1 | setosa |\n",
       "\n"
      ],
      "text/plain": [
       "   Sepal.Length Sepal.Width Petal.Length Petal.Width Species\n",
       "1  5.1          3.5         1.4          0.2         setosa \n",
       "2  4.9          3.0         1.4          0.2         setosa \n",
       "3  4.7          3.2         1.3          0.2         setosa \n",
       "4  4.6          3.1         1.5          0.2         setosa \n",
       "5  5.0          3.6         1.4          0.2         setosa \n",
       "6  5.4          3.9         1.7          0.4         setosa \n",
       "7  4.6          3.4         1.4          0.3         setosa \n",
       "8  5.0          3.4         1.5          0.2         setosa \n",
       "9  4.4          2.9         1.4          0.2         setosa \n",
       "10 4.9          3.1         1.5          0.1         setosa "
      ]
     },
     "metadata": {},
     "output_type": "display_data"
    },
    {
     "data": {
      "image/png": "[encoded data removed]",
      "text/plain": [
       "plot without title"
      ]
     },
     "metadata": {},
     "output_type": "display_data"
    }
   ],
   "source": [
    "single_plot = function(df, colx, coly){\n",
    "    ggplot(df, aes_string(colx,coly)) +\n",
    "          geom_point(aes(color = factor(df$Species)), alpha = 0.4)\n",
    "}\n",
    "\n",
    "plot_iris = function(df){\n",
    "    options(repr.plot.width=8, repr.plot.height=5)\n",
    "    grid.arrange(\n",
    "        single_plot(df, 'Sepal.Length', 'Sepal.Width'),\n",
    "        single_plot(df, 'Sepal.Length', 'Petal.Length'),\n",
    "        single_plot(df, 'Petal.Length', 'Petal.Width'),\n",
    "        single_plot(df, 'Sepal.Width', 'Petal.Length'),\n",
    "        nrow = 2)\n",
    "}\n",
    "\n",
    "head(iris, 10)   \n",
    "plot_iris(iris) "
   ]
  },
  {
   "cell_type": "markdown",
   "metadata": {},
   "source": [
    "You can see that Setosa is well separated from the other two categories. The Versicolor and the Virginica show considerable overlap. The question is how well our classifier will separate these categories. \n",
    "\n",
    "Next, execute the code in the cell below to split the dataset into test and training set. Notice that unusually, 67% of the cases are being used as the test dataset. "
   ]
  },
  {
   "cell_type": "code",
   "execution_count": 6,
   "metadata": {},
   "outputs": [
    {
     "data": {
      "text/html": [
       "<ol class=list-inline>\n",
       "\t<li>51</li>\n",
       "\t<li>5</li>\n",
       "</ol>\n"
      ],
      "text/latex": [
       "\\begin{enumerate*}\n",
       "\\item 51\n",
       "\\item 5\n",
       "\\end{enumerate*}\n"
      ],
      "text/markdown": [
       "1. 51\n",
       "2. 5\n",
       "\n",
       "\n"
      ],
      "text/plain": [
       "[1] 51  5"
      ]
     },
     "metadata": {},
     "output_type": "display_data"
    },
    {
     "data": {
      "text/html": [
       "<ol class=list-inline>\n",
       "\t<li>99</li>\n",
       "\t<li>5</li>\n",
       "</ol>\n"
      ],
      "text/latex": [
       "\\begin{enumerate*}\n",
       "\\item 99\n",
       "\\item 5\n",
       "\\end{enumerate*}\n"
      ],
      "text/markdown": [
       "1. 99\n",
       "2. 5\n",
       "\n",
       "\n"
      ],
      "text/plain": [
       "[1] 99  5"
      ]
     },
     "metadata": {},
     "output_type": "display_data"
    }
   ],
   "source": [
    "set.seed(1955)\n",
    "## Randomly sample cases to create independent training and test data\n",
    "partition = createDataPartition(iris[,'Species'], times = 1, p = 0.33, list = FALSE)\n",
    "training = iris[partition,] # Create the training sample\n",
    "dim(training)\n",
    "test = iris[-partition,] # Create the test sample\n",
    "dim(test)"
   ]
  },
  {
   "cell_type": "markdown",
   "metadata": {},
   "source": [
    "As is always the case with machine learning, numeric features  must be scaled. Execute the code in the cell below to scale the training and test datasets:"
   ]
  },
  {
   "cell_type": "code",
   "execution_count": 7,
   "metadata": {},
   "outputs": [
    {
     "data": {
      "text/html": [
       "<table>\n",
       "<caption>A data.frame: 6 × 4</caption>\n",
       "<thead>\n",
       "\t<tr><th></th><th scope=col>Sepal.Length</th><th scope=col>Sepal.Width</th><th scope=col>Petal.Length</th><th scope=col>Petal.Width</th></tr>\n",
       "\t<tr><th></th><th scope=col>&lt;dbl&gt;</th><th scope=col>&lt;dbl&gt;</th><th scope=col>&lt;dbl&gt;</th><th scope=col>&lt;dbl&gt;</th></tr>\n",
       "</thead>\n",
       "<tbody>\n",
       "\t<tr><th scope=row>1</th><td>-0.8850113</td><td> 1.0640422</td><td>-1.344993</td><td>-1.284654</td></tr>\n",
       "\t<tr><th scope=row>3</th><td>-1.3716483</td><td> 0.3885299</td><td>-1.401918</td><td>-1.284654</td></tr>\n",
       "\t<tr><th scope=row>5</th><td>-1.0066706</td><td> 1.2892130</td><td>-1.344993</td><td>-1.284654</td></tr>\n",
       "\t<tr><th scope=row>6</th><td>-0.5200336</td><td> 1.9647253</td><td>-1.174218</td><td>-1.022585</td></tr>\n",
       "\t<tr><th scope=row>9</th><td>-1.7366260</td><td>-0.2869823</td><td>-1.344993</td><td>-1.284654</td></tr>\n",
       "\t<tr><th scope=row>10</th><td>-1.1283298</td><td> 0.1633592</td><td>-1.288068</td><td>-1.415689</td></tr>\n",
       "</tbody>\n",
       "</table>\n"
      ],
      "text/latex": [
       "A data.frame: 6 × 4\n",
       "\\begin{tabular}{r|llll}\n",
       "  & Sepal.Length & Sepal.Width & Petal.Length & Petal.Width\\\\\n",
       "  & <dbl> & <dbl> & <dbl> & <dbl>\\\\\n",
       "\\hline\n",
       "\t1 & -0.8850113 &  1.0640422 & -1.344993 & -1.284654\\\\\n",
       "\t3 & -1.3716483 &  0.3885299 & -1.401918 & -1.284654\\\\\n",
       "\t5 & -1.0066706 &  1.2892130 & -1.344993 & -1.284654\\\\\n",
       "\t6 & -0.5200336 &  1.9647253 & -1.174218 & -1.022585\\\\\n",
       "\t9 & -1.7366260 & -0.2869823 & -1.344993 & -1.284654\\\\\n",
       "\t10 & -1.1283298 &  0.1633592 & -1.288068 & -1.415689\\\\\n",
       "\\end{tabular}\n"
      ],
      "text/markdown": [
       "\n",
       "A data.frame: 6 × 4\n",
       "\n",
       "| <!--/--> | Sepal.Length &lt;dbl&gt; | Sepal.Width &lt;dbl&gt; | Petal.Length &lt;dbl&gt; | Petal.Width &lt;dbl&gt; |\n",
       "|---|---|---|---|---|\n",
       "| 1 | -0.8850113 |  1.0640422 | -1.344993 | -1.284654 |\n",
       "| 3 | -1.3716483 |  0.3885299 | -1.401918 | -1.284654 |\n",
       "| 5 | -1.0066706 |  1.2892130 | -1.344993 | -1.284654 |\n",
       "| 6 | -0.5200336 |  1.9647253 | -1.174218 | -1.022585 |\n",
       "| 9 | -1.7366260 | -0.2869823 | -1.344993 | -1.284654 |\n",
       "| 10 | -1.1283298 |  0.1633592 | -1.288068 | -1.415689 |\n",
       "\n"
      ],
      "text/plain": [
       "   Sepal.Length Sepal.Width Petal.Length Petal.Width\n",
       "1  -0.8850113    1.0640422  -1.344993    -1.284654  \n",
       "3  -1.3716483    0.3885299  -1.401918    -1.284654  \n",
       "5  -1.0066706    1.2892130  -1.344993    -1.284654  \n",
       "6  -0.5200336    1.9647253  -1.174218    -1.022585  \n",
       "9  -1.7366260   -0.2869823  -1.344993    -1.284654  \n",
       "10 -1.1283298    0.1633592  -1.288068    -1.415689  "
      ]
     },
     "metadata": {},
     "output_type": "display_data"
    }
   ],
   "source": [
    "num_cols = c('Sepal.Length', 'Sepal.Width', 'Petal.Length', 'Petal.Width')\n",
    "preProcValues <- preProcess(training[,num_cols], method = c(\"center\", \"scale\"))\n",
    "\n",
    "training[,num_cols] = predict(preProcValues, training[,num_cols])\n",
    "test[,num_cols] = predict(preProcValues, test[,num_cols])\n",
    "head(training[,num_cols])"
   ]
  },
  {
   "cell_type": "markdown",
   "metadata": {},
   "source": [
    "Now you will define and fit a neural network module using `nnet` function from the r nnet package.  The single hidden layer with 50 units is defined by setting the `size` to a list with single element of 50. Execute this code."
   ]
  },
  {
   "cell_type": "code",
   "execution_count": 8,
   "metadata": {},
   "outputs": [
    {
     "name": "stdout",
     "output_type": "stream",
     "text": [
      "# weights:  403\n",
      "initial  value 40.904213 \n",
      "iter  10 value 2.610630\n",
      "iter  20 value 0.008345\n",
      "final  value 0.000092 \n",
      "converged\n"
     ]
    }
   ],
   "source": [
    "set.seed(6677)\n",
    "nn_mod = nnet(Species ~ ., data = training, size = c(50))"
   ]
  },
  {
   "cell_type": "markdown",
   "metadata": {},
   "source": [
    "The model provides information on the convergence of the algorithm. \n",
    "\n",
    "The code below scores the model by the following steps:  \n",
    "1. The probabilities for each of the classes are is computed for each case. \n",
    "2. The `which.max` function is applied to these probabilities to create a numeric score.\n",
    "3. The numeric score is transformed to the class names. \n",
    "\n",
    "Execute this code and examine the results. "
   ]
  },
  {
   "cell_type": "code",
   "execution_count": 9,
   "metadata": {},
   "outputs": [
    {
     "data": {
      "text/html": [
       "<table>\n",
       "<caption>A matrix: 6 × 3 of type dbl</caption>\n",
       "<thead>\n",
       "\t<tr><th></th><th scope=col>setosa</th><th scope=col>versicolor</th><th scope=col>virginica</th></tr>\n",
       "</thead>\n",
       "<tbody>\n",
       "\t<tr><th scope=row>2</th><td>1</td><td>2.160947e-16</td><td>1.160358e-78</td></tr>\n",
       "\t<tr><th scope=row>4</th><td>1</td><td>3.522321e-16</td><td>2.145861e-78</td></tr>\n",
       "\t<tr><th scope=row>7</th><td>1</td><td>6.087068e-19</td><td>4.892052e-81</td></tr>\n",
       "\t<tr><th scope=row>8</th><td>1</td><td>8.111373e-21</td><td>1.047931e-82</td></tr>\n",
       "\t<tr><th scope=row>13</th><td>1</td><td>2.077941e-16</td><td>1.301302e-78</td></tr>\n",
       "\t<tr><th scope=row>14</th><td>1</td><td>4.754266e-15</td><td>2.837922e-77</td></tr>\n",
       "</tbody>\n",
       "</table>\n"
      ],
      "text/latex": [
       "A matrix: 6 × 3 of type dbl\n",
       "\\begin{tabular}{r|lll}\n",
       "  & setosa & versicolor & virginica\\\\\n",
       "\\hline\n",
       "\t2 & 1 & 2.160947e-16 & 1.160358e-78\\\\\n",
       "\t4 & 1 & 3.522321e-16 & 2.145861e-78\\\\\n",
       "\t7 & 1 & 6.087068e-19 & 4.892052e-81\\\\\n",
       "\t8 & 1 & 8.111373e-21 & 1.047931e-82\\\\\n",
       "\t13 & 1 & 2.077941e-16 & 1.301302e-78\\\\\n",
       "\t14 & 1 & 4.754266e-15 & 2.837922e-77\\\\\n",
       "\\end{tabular}\n"
      ],
      "text/markdown": [
       "\n",
       "A matrix: 6 × 3 of type dbl\n",
       "\n",
       "| <!--/--> | setosa | versicolor | virginica |\n",
       "|---|---|---|---|\n",
       "| 2 | 1 | 2.160947e-16 | 1.160358e-78 |\n",
       "| 4 | 1 | 3.522321e-16 | 2.145861e-78 |\n",
       "| 7 | 1 | 6.087068e-19 | 4.892052e-81 |\n",
       "| 8 | 1 | 8.111373e-21 | 1.047931e-82 |\n",
       "| 13 | 1 | 2.077941e-16 | 1.301302e-78 |\n",
       "| 14 | 1 | 4.754266e-15 | 2.837922e-77 |\n",
       "\n"
      ],
      "text/plain": [
       "   setosa versicolor   virginica   \n",
       "2  1      2.160947e-16 1.160358e-78\n",
       "4  1      3.522321e-16 2.145861e-78\n",
       "7  1      6.087068e-19 4.892052e-81\n",
       "8  1      8.111373e-21 1.047931e-82\n",
       "13 1      2.077941e-16 1.301302e-78\n",
       "14 1      4.754266e-15 2.837922e-77"
      ]
     },
     "metadata": {},
     "output_type": "display_data"
    },
    {
     "data": {
      "text/html": [
       "<table>\n",
       "<caption>A data.frame: 6 × 6</caption>\n",
       "<thead>\n",
       "\t<tr><th></th><th scope=col>Sepal.Length</th><th scope=col>Sepal.Width</th><th scope=col>Petal.Length</th><th scope=col>Petal.Width</th><th scope=col>Species</th><th scope=col>scores</th></tr>\n",
       "\t<tr><th></th><th scope=col>&lt;dbl&gt;</th><th scope=col>&lt;dbl&gt;</th><th scope=col>&lt;dbl&gt;</th><th scope=col>&lt;dbl&gt;</th><th scope=col>&lt;fct&gt;</th><th scope=col>&lt;chr&gt;</th></tr>\n",
       "</thead>\n",
       "<tbody>\n",
       "\t<tr><th scope=row>2</th><td>-1.128330</td><td>-0.06181158</td><td>-1.344993</td><td>-1.284654</td><td>setosa</td><td>setosa</td></tr>\n",
       "\t<tr><th scope=row>4</th><td>-1.493308</td><td> 0.16335918</td><td>-1.288068</td><td>-1.284654</td><td>setosa</td><td>setosa</td></tr>\n",
       "\t<tr><th scope=row>7</th><td>-1.493308</td><td> 0.83887147</td><td>-1.344993</td><td>-1.153619</td><td>setosa</td><td>setosa</td></tr>\n",
       "\t<tr><th scope=row>8</th><td>-1.006671</td><td> 0.83887147</td><td>-1.288068</td><td>-1.284654</td><td>setosa</td><td>setosa</td></tr>\n",
       "\t<tr><th scope=row>13</th><td>-1.249989</td><td>-0.06181158</td><td>-1.344993</td><td>-1.415689</td><td>setosa</td><td>setosa</td></tr>\n",
       "\t<tr><th scope=row>14</th><td>-1.858285</td><td>-0.06181158</td><td>-1.515768</td><td>-1.415689</td><td>setosa</td><td>setosa</td></tr>\n",
       "</tbody>\n",
       "</table>\n"
      ],
      "text/latex": [
       "A data.frame: 6 × 6\n",
       "\\begin{tabular}{r|llllll}\n",
       "  & Sepal.Length & Sepal.Width & Petal.Length & Petal.Width & Species & scores\\\\\n",
       "  & <dbl> & <dbl> & <dbl> & <dbl> & <fct> & <chr>\\\\\n",
       "\\hline\n",
       "\t2 & -1.128330 & -0.06181158 & -1.344993 & -1.284654 & setosa & setosa\\\\\n",
       "\t4 & -1.493308 &  0.16335918 & -1.288068 & -1.284654 & setosa & setosa\\\\\n",
       "\t7 & -1.493308 &  0.83887147 & -1.344993 & -1.153619 & setosa & setosa\\\\\n",
       "\t8 & -1.006671 &  0.83887147 & -1.288068 & -1.284654 & setosa & setosa\\\\\n",
       "\t13 & -1.249989 & -0.06181158 & -1.344993 & -1.415689 & setosa & setosa\\\\\n",
       "\t14 & -1.858285 & -0.06181158 & -1.515768 & -1.415689 & setosa & setosa\\\\\n",
       "\\end{tabular}\n"
      ],
      "text/markdown": [
       "\n",
       "A data.frame: 6 × 6\n",
       "\n",
       "| <!--/--> | Sepal.Length &lt;dbl&gt; | Sepal.Width &lt;dbl&gt; | Petal.Length &lt;dbl&gt; | Petal.Width &lt;dbl&gt; | Species &lt;fct&gt; | scores &lt;chr&gt; |\n",
       "|---|---|---|---|---|---|---|\n",
       "| 2 | -1.128330 | -0.06181158 | -1.344993 | -1.284654 | setosa | setosa |\n",
       "| 4 | -1.493308 |  0.16335918 | -1.288068 | -1.284654 | setosa | setosa |\n",
       "| 7 | -1.493308 |  0.83887147 | -1.344993 | -1.153619 | setosa | setosa |\n",
       "| 8 | -1.006671 |  0.83887147 | -1.288068 | -1.284654 | setosa | setosa |\n",
       "| 13 | -1.249989 | -0.06181158 | -1.344993 | -1.415689 | setosa | setosa |\n",
       "| 14 | -1.858285 | -0.06181158 | -1.515768 | -1.415689 | setosa | setosa |\n",
       "\n"
      ],
      "text/plain": [
       "   Sepal.Length Sepal.Width Petal.Length Petal.Width Species scores\n",
       "2  -1.128330    -0.06181158 -1.344993    -1.284654   setosa  setosa\n",
       "4  -1.493308     0.16335918 -1.288068    -1.284654   setosa  setosa\n",
       "7  -1.493308     0.83887147 -1.344993    -1.153619   setosa  setosa\n",
       "8  -1.006671     0.83887147 -1.288068    -1.284654   setosa  setosa\n",
       "13 -1.249989    -0.06181158 -1.344993    -1.415689   setosa  setosa\n",
       "14 -1.858285    -0.06181158 -1.515768    -1.415689   setosa  setosa"
      ]
     },
     "metadata": {},
     "output_type": "display_data"
    }
   ],
   "source": [
    "probs = predict(nn_mod, newdata = test)\n",
    "head(probs)\n",
    "test$scores = apply(probs, 1, which.max)\n",
    "test$scores = ifelse(test$scores == 1, 'setosa', ifelse(test$scores == 2, 'versicolor', 'virginica'))\n",
    "head(test)"
   ]
  },
  {
   "cell_type": "markdown",
   "metadata": {},
   "source": [
    "You can see the class probabilities computed from the model. Then the score by class can be seen.    \n",
    "\n",
    "It is time to evaluate the model results. Keep in mind that the problem has been made deliberately difficult, by having more test cases than training cases. The iris data has three species categories. Therefore it is necessary to use evaluation code for a three category problem. The function in the cell below extends code from previous labs to deal with a three category problem. \n",
    "\n",
    "Execute this code, examine the results, and answer **Question 1** on the course page."
   ]
  },
  {
   "cell_type": "code",
   "execution_count": 10,
   "metadata": {
    "scrolled": false
   },
   "outputs": [
    {
     "name": "stdout",
     "output_type": "stream",
     "text": [
      "            Predicted\n",
      "Actual       setosa versicolor virginica\n",
      "  setosa         33          0         0\n",
      "  versicolor      0         29         4\n",
      "  virginica       0          5        28\n",
      "\n",
      "Accuracy =  0.909 \n",
      " \n",
      "          setosa versicolor virginica\n",
      "Precision      1      0.879     0.848\n",
      "Recall         1      0.853     0.875\n",
      "F1             1      0.866     0.862\n"
     ]
    }
   ],
   "source": [
    "print_metrics = function(df, label){\n",
    "    ## Compute and print the confusion matrix\n",
    "    cm = as.matrix(table(Actual = df$Species, Predicted = df$scores))\n",
    "    print(cm)\n",
    "\n",
    "    ## Compute and print accuracy \n",
    "    accuracy = round(sum(sapply(1:nrow(cm), function(i) cm[i,i]))/sum(cm), 3)\n",
    "    cat('\\n')\n",
    "    cat(paste('Accuracy = ', as.character(accuracy)), '\\n \\n')                           \n",
    "\n",
    "    ## Compute and print precision, recall and F1\n",
    "    precision = sapply(1:nrow(cm), function(i) cm[i,i]/sum(cm[i,]))\n",
    "    recall = sapply(1:nrow(cm), function(i) cm[i,i]/sum(cm[,i]))    \n",
    "    F1 = sapply(1:nrow(cm), function(i) 2*(recall[i] * precision[i])/(recall[i] + precision[i]))    \n",
    "    metrics = sapply(c(precision, recall, F1), round, 3)        \n",
    "    metrics = t(matrix(metrics, nrow = nrow(cm), ncol = ncol(cm)))       \n",
    "    dimnames(metrics) = list(c('Precision', 'Recall', 'F1'), unique(test$Species))      \n",
    "    print(metrics)\n",
    "}  \n",
    "print_metrics(test, 'Species')     "
   ]
  },
  {
   "cell_type": "markdown",
   "metadata": {},
   "source": [
    "Examine these results. Notice the following:\n",
    "1. The confusion matrix has dimension 3X3. You can see that most cases are correctly classified. \n",
    "2. The overall accuracy is 0.91. Since the classes are roughly balanced, this metric indicates relatively good performance of the classifier, particularly since it was only trained on 50 cases. \n",
    "3. The precision, recall and  F1 for each of the classes is relatively good. Virginica has the worst metrics since it has the largest number of misclassified cases. \n",
    "\n",
    "How important are each of the features for this model? The R Caret package provides the capability to find out. As a first step, `gbm` models must be trained using the the Caret `train` function. The code in the cell below does this, using the default model arguments. The default arguments for the model are specified with the `tuneGrid` argument of `train`. Execute the code."
   ]
  },
  {
   "cell_type": "code",
   "execution_count": 11,
   "metadata": {},
   "outputs": [
    {
     "data": {
      "text/plain": [
       "Neural Network \n",
       "\n",
       "51 samples\n",
       " 4 predictor\n",
       " 3 classes: 'setosa', 'versicolor', 'virginica' \n",
       "\n",
       "No pre-processing\n",
       "Resampling: Cross-Validated (10 fold) \n",
       "Summary of sample sizes: 46, 46, 46, 45, 46, 45, ... \n",
       "Resampling results:\n",
       "\n",
       "  Accuracy   Kappa    \n",
       "  0.9033333  0.8555147\n",
       "\n",
       "Tuning parameter 'size' was held constant at a value of 50\n",
       "Tuning\n",
       " parameter 'decay' was held constant at a value of 0"
      ]
     },
     "metadata": {},
     "output_type": "display_data"
    }
   ],
   "source": [
    "set.seed(9876)\n",
    "trControl <- trainControl(method = \"cv\", number = 10)\n",
    "\n",
    "nn_mod_train = train(Species ~ ., \n",
    "                     data = training, \n",
    "                     method = \"nnet\", \n",
    "                     verbose = FALSE,\n",
    "                     trControl = trControl,\n",
    "                     tuneGrid = expand.grid(decay = 0, size = c(50)),\n",
    "                     trace = FALSE)\n",
    "nn_mod_train "
   ]
  },
  {
   "cell_type": "markdown",
   "metadata": {},
   "source": [
    "With the Caret model object trained, the feature importance can be computed and displayed. Execute this code and examine the results. "
   ]
  },
  {
   "cell_type": "code",
   "execution_count": 12,
   "metadata": {
    "scrolled": false
   },
   "outputs": [
    {
     "data": {
      "text/html": [
       "<table>\n",
       "<caption>A matrix: 4 × 4 of type dbl</caption>\n",
       "<thead>\n",
       "\t<tr><th></th><th scope=col>Overall</th><th scope=col>setosa</th><th scope=col>versicolor</th><th scope=col>virginica</th></tr>\n",
       "</thead>\n",
       "<tbody>\n",
       "\t<tr><th scope=row>Sepal.Length</th><td>21.01563</td><td>21.01563</td><td>21.01563</td><td>21.01563</td></tr>\n",
       "\t<tr><th scope=row>Sepal.Width</th><td>18.35799</td><td>18.35799</td><td>18.35799</td><td>18.35799</td></tr>\n",
       "\t<tr><th scope=row>Petal.Length</th><td>39.72957</td><td>39.72957</td><td>39.72957</td><td>39.72957</td></tr>\n",
       "\t<tr><th scope=row>Petal.Width</th><td>20.89681</td><td>20.89681</td><td>20.89681</td><td>20.89681</td></tr>\n",
       "</tbody>\n",
       "</table>\n"
      ],
      "text/latex": [
       "A matrix: 4 × 4 of type dbl\n",
       "\\begin{tabular}{r|llll}\n",
       "  & Overall & setosa & versicolor & virginica\\\\\n",
       "\\hline\n",
       "\tSepal.Length & 21.01563 & 21.01563 & 21.01563 & 21.01563\\\\\n",
       "\tSepal.Width & 18.35799 & 18.35799 & 18.35799 & 18.35799\\\\\n",
       "\tPetal.Length & 39.72957 & 39.72957 & 39.72957 & 39.72957\\\\\n",
       "\tPetal.Width & 20.89681 & 20.89681 & 20.89681 & 20.89681\\\\\n",
       "\\end{tabular}\n"
      ],
      "text/markdown": [
       "\n",
       "A matrix: 4 × 4 of type dbl\n",
       "\n",
       "| <!--/--> | Overall | setosa | versicolor | virginica |\n",
       "|---|---|---|---|---|\n",
       "| Sepal.Length | 21.01563 | 21.01563 | 21.01563 | 21.01563 |\n",
       "| Sepal.Width | 18.35799 | 18.35799 | 18.35799 | 18.35799 |\n",
       "| Petal.Length | 39.72957 | 39.72957 | 39.72957 | 39.72957 |\n",
       "| Petal.Width | 20.89681 | 20.89681 | 20.89681 | 20.89681 |\n",
       "\n"
      ],
      "text/plain": [
       "             Overall  setosa   versicolor virginica\n",
       "Sepal.Length 21.01563 21.01563 21.01563   21.01563 \n",
       "Sepal.Width  18.35799 18.35799 18.35799   18.35799 \n",
       "Petal.Length 39.72957 39.72957 39.72957   39.72957 \n",
       "Petal.Width  20.89681 20.89681 20.89681   20.89681 "
      ]
     },
     "metadata": {},
     "output_type": "display_data"
    }
   ],
   "source": [
    "options(repr.plot.width=4, repr.plot.height=3)\n",
    "imp = varImp(nn_mod_train, scale = FALSE)$importance\n",
    "imp"
   ]
  },
  {
   "cell_type": "markdown",
   "metadata": {},
   "source": [
    "Examine the table above. Notice that `Sepal.Length` has the least importance for classifying each of the species. \n",
    "\n",
    "Execute this code, and answer **Question 2** on the course page.\n",
    "\n",
    "Next, you will train and evaluate a model using the three most important features by executing the code in the cell below:"
   ]
  },
  {
   "cell_type": "code",
   "execution_count": 13,
   "metadata": {},
   "outputs": [
    {
     "name": "stdout",
     "output_type": "stream",
     "text": [
      "# weights:  353\n",
      "initial  value 63.716595 \n",
      "iter  10 value 3.535932\n",
      "iter  20 value 2.117196\n",
      "iter  30 value 0.590283\n",
      "iter  40 value 0.000681\n",
      "final  value 0.000058 \n",
      "converged\n",
      "            Predicted\n",
      "Actual       setosa versicolor virginica\n",
      "  setosa         33          0         0\n",
      "  versicolor      0         31         2\n",
      "  virginica       0          5        28\n",
      "\n",
      "Accuracy =  0.929 \n",
      " \n",
      "          setosa versicolor virginica\n",
      "Precision      1      0.939     0.848\n",
      "Recall         1      0.861     0.933\n",
      "F1             1      0.899     0.889\n"
     ]
    }
   ],
   "source": [
    "set.seed(5678)\n",
    "nn_mod = nnet(Species ~ Sepal.Width + Petal.Length + Petal.Width, data = training, size = c(50))\n",
    "probs = predict(nn_mod, newdata = test)\n",
    "test$scores = apply(probs, 1, which.max)\n",
    "test$scores = ifelse(test$scores == 1, 'setosa', ifelse(test$scores == 2, 'versicolor', 'virginica'))\n",
    "print_metrics(test, 'Species')     "
   ]
  },
  {
   "cell_type": "markdown",
   "metadata": {},
   "source": [
    "These results are identical to those obtained with the model with all features. The simpler model is preferred since it is likely to generalize better. \n",
    "\n",
    "The code in the cell below plots the classes of the iris flower along with the classification errors shown by shape. Execute this code and examine the results.  "
   ]
  },
  {
   "cell_type": "code",
   "execution_count": 14,
   "metadata": {},
   "outputs": [
    {
     "data": {
      "image/png": "[encoded data removed]",
      "text/plain": [
       "plot without title"
      ]
     },
     "metadata": {},
     "output_type": "display_data"
    }
   ],
   "source": [
    "## Create column of correct-incorrect classification\n",
    "test$correct = ifelse(test$Species == test$scores, 'correct', 'incorrect')\n",
    "\n",
    "single_plot_classes = function(df, colx, coly){\n",
    "    ggplot(df, aes_string(colx,coly)) +\n",
    "          geom_point(aes(color = factor(df$Species), shape = correct), alpha = 0.4)\n",
    "}\n",
    "\n",
    "plot_iris_classes = function(df){\n",
    "    options(repr.plot.width=8, repr.plot.height=5)\n",
    "    grid.arrange(\n",
    "        single_plot_classes(df, 'Sepal.Length', 'Sepal.Width'),\n",
    "        single_plot_classes(df, 'Sepal.Length', 'Petal.Length'),\n",
    "        single_plot_classes(df, 'Petal.Length', 'Petal.Width'),\n",
    "        single_plot_classes(df, 'Sepal.Width', 'Petal.Length'),\n",
    "        nrow = 2)\n",
    "}\n",
    "\n",
    "plot_iris_classes(test)"
   ]
  },
  {
   "cell_type": "markdown",
   "metadata": {},
   "source": [
    "Examine these plots. You can see how the classifier has divided the feature space between the classes. Notice that most of the errors occur in the overlap region between Virginica and Versicolor. This behavior is to be expected.  "
   ]
  },
  {
   "cell_type": "markdown",
   "metadata": {},
   "source": [
    "## Another example\n",
    "\n",
    "Now, you will try a more complex example using the credit scoring data. You will use the prepared data which has been prepared by removing duplicate cases. Some columns which are know not to be predictive are removed. Execute the code in the cell below to load the dataset for the example. "
   ]
  },
  {
   "cell_type": "code",
   "execution_count": 15,
   "metadata": {},
   "outputs": [
    {
     "name": "stdout",
     "output_type": "stream",
     "text": [
      "[1] 1000   16\n"
     ]
    },
    {
     "data": {
      "text/html": [
       "<ol class=list-inline>\n",
       "\t<li>'checking_account_status'</li>\n",
       "\t<li>'loan_duration_mo'</li>\n",
       "\t<li>'credit_history'</li>\n",
       "\t<li>'loan_amount'</li>\n",
       "\t<li>'savings_account_balance'</li>\n",
       "\t<li>'time_employed_yrs'</li>\n",
       "\t<li>'payment_pcnt_income'</li>\n",
       "\t<li>'time_in_residence'</li>\n",
       "\t<li>'property'</li>\n",
       "\t<li>'age_yrs'</li>\n",
       "\t<li>'other_credit_outstanding'</li>\n",
       "\t<li>'number_loans'</li>\n",
       "\t<li>'job_category'</li>\n",
       "\t<li>'dependents'</li>\n",
       "\t<li>'telephone'</li>\n",
       "\t<li>'bad_credit'</li>\n",
       "</ol>\n"
      ],
      "text/latex": [
       "\\begin{enumerate*}\n",
       "\\item 'checking\\_account\\_status'\n",
       "\\item 'loan\\_duration\\_mo'\n",
       "\\item 'credit\\_history'\n",
       "\\item 'loan\\_amount'\n",
       "\\item 'savings\\_account\\_balance'\n",
       "\\item 'time\\_employed\\_yrs'\n",
       "\\item 'payment\\_pcnt\\_income'\n",
       "\\item 'time\\_in\\_residence'\n",
       "\\item 'property'\n",
       "\\item 'age\\_yrs'\n",
       "\\item 'other\\_credit\\_outstanding'\n",
       "\\item 'number\\_loans'\n",
       "\\item 'job\\_category'\n",
       "\\item 'dependents'\n",
       "\\item 'telephone'\n",
       "\\item 'bad\\_credit'\n",
       "\\end{enumerate*}\n"
      ],
      "text/markdown": [
       "1. 'checking_account_status'\n",
       "2. 'loan_duration_mo'\n",
       "3. 'credit_history'\n",
       "4. 'loan_amount'\n",
       "5. 'savings_account_balance'\n",
       "6. 'time_employed_yrs'\n",
       "7. 'payment_pcnt_income'\n",
       "8. 'time_in_residence'\n",
       "9. 'property'\n",
       "10. 'age_yrs'\n",
       "11. 'other_credit_outstanding'\n",
       "12. 'number_loans'\n",
       "13. 'job_category'\n",
       "14. 'dependents'\n",
       "15. 'telephone'\n",
       "16. 'bad_credit'\n",
       "\n",
       "\n"
      ],
      "text/plain": [
       " [1] \"checking_account_status\"  \"loan_duration_mo\"        \n",
       " [3] \"credit_history\"           \"loan_amount\"             \n",
       " [5] \"savings_account_balance\"  \"time_employed_yrs\"       \n",
       " [7] \"payment_pcnt_income\"      \"time_in_residence\"       \n",
       " [9] \"property\"                 \"age_yrs\"                 \n",
       "[11] \"other_credit_outstanding\" \"number_loans\"            \n",
       "[13] \"job_category\"             \"dependents\"              \n",
       "[15] \"telephone\"                \"bad_credit\"              "
      ]
     },
     "metadata": {},
     "output_type": "display_data"
    },
    {
     "data": {
      "text/html": [
       "<table>\n",
       "<caption>A data.frame: 6 × 16</caption>\n",
       "<thead>\n",
       "\t<tr><th scope=col>checking_account_status</th><th scope=col>loan_duration_mo</th><th scope=col>credit_history</th><th scope=col>loan_amount</th><th scope=col>savings_account_balance</th><th scope=col>time_employed_yrs</th><th scope=col>payment_pcnt_income</th><th scope=col>time_in_residence</th><th scope=col>property</th><th scope=col>age_yrs</th><th scope=col>other_credit_outstanding</th><th scope=col>number_loans</th><th scope=col>job_category</th><th scope=col>dependents</th><th scope=col>telephone</th><th scope=col>bad_credit</th></tr>\n",
       "\t<tr><th scope=col>&lt;fct&gt;</th><th scope=col>&lt;int&gt;</th><th scope=col>&lt;fct&gt;</th><th scope=col>&lt;int&gt;</th><th scope=col>&lt;fct&gt;</th><th scope=col>&lt;fct&gt;</th><th scope=col>&lt;int&gt;</th><th scope=col>&lt;int&gt;</th><th scope=col>&lt;fct&gt;</th><th scope=col>&lt;int&gt;</th><th scope=col>&lt;fct&gt;</th><th scope=col>&lt;int&gt;</th><th scope=col>&lt;fct&gt;</th><th scope=col>&lt;int&gt;</th><th scope=col>&lt;fct&gt;</th><th scope=col>&lt;int&gt;</th></tr>\n",
       "</thead>\n",
       "<tbody>\n",
       "\t<tr><td><span style=white-space:pre-wrap>&lt; 0 DM    </span></td><td> 6</td><td>critical account - other non-bank loans</td><td>1169</td><td>unknown/none</td><td>&gt;= 7 years </td><td>4</td><td>4</td><td><span style=white-space:pre-wrap>real estate                            </span></td><td>67</td><td>none</td><td>2</td><td><span style=white-space:pre-wrap>skilled           </span></td><td>1</td><td>yes </td><td>0</td></tr>\n",
       "\t<tr><td>0 - 200 DM</td><td>48</td><td><span style=white-space:pre-wrap>current loans paid                     </span></td><td>5951</td><td><span style=white-space:pre-wrap>&lt; 100 DM    </span></td><td>1 - 4 years</td><td>2</td><td>2</td><td><span style=white-space:pre-wrap>real estate                            </span></td><td>22</td><td>none</td><td>1</td><td><span style=white-space:pre-wrap>skilled           </span></td><td>1</td><td>none</td><td>1</td></tr>\n",
       "\t<tr><td><span style=white-space:pre-wrap>none      </span></td><td>12</td><td>critical account - other non-bank loans</td><td>2096</td><td><span style=white-space:pre-wrap>&lt; 100 DM    </span></td><td>4 - 7 years</td><td>2</td><td>3</td><td><span style=white-space:pre-wrap>real estate                            </span></td><td>49</td><td>none</td><td>1</td><td>unskilled-resident</td><td>2</td><td>none</td><td>0</td></tr>\n",
       "\t<tr><td><span style=white-space:pre-wrap>&lt; 0 DM    </span></td><td>42</td><td><span style=white-space:pre-wrap>current loans paid                     </span></td><td>7882</td><td><span style=white-space:pre-wrap>&lt; 100 DM    </span></td><td>4 - 7 years</td><td>2</td><td>4</td><td>building society savings/life insurance</td><td>45</td><td>none</td><td>1</td><td><span style=white-space:pre-wrap>skilled           </span></td><td>2</td><td>none</td><td>0</td></tr>\n",
       "\t<tr><td><span style=white-space:pre-wrap>&lt; 0 DM    </span></td><td>24</td><td><span style=white-space:pre-wrap>past payment delays                    </span></td><td>4870</td><td><span style=white-space:pre-wrap>&lt; 100 DM    </span></td><td>1 - 4 years</td><td>3</td><td>4</td><td><span style=white-space:pre-wrap>unknown-none                           </span></td><td>53</td><td>none</td><td>2</td><td><span style=white-space:pre-wrap>skilled           </span></td><td>2</td><td>none</td><td>1</td></tr>\n",
       "\t<tr><td>none      </td><td>36</td><td>current loans paid                     </td><td>9055</td><td>unknown/none</td><td>1 - 4 years</td><td>2</td><td>4</td><td>unknown-none                           </td><td>35</td><td>none</td><td>1</td><td>unskilled-resident</td><td>2</td><td>yes </td><td>0</td></tr>\n",
       "</tbody>\n",
       "</table>\n"
      ],
      "text/latex": [
       "A data.frame: 6 × 16\n",
       "\\begin{tabular}{r|llllllllllllllll}\n",
       " checking\\_account\\_status & loan\\_duration\\_mo & credit\\_history & loan\\_amount & savings\\_account\\_balance & time\\_employed\\_yrs & payment\\_pcnt\\_income & time\\_in\\_residence & property & age\\_yrs & other\\_credit\\_outstanding & number\\_loans & job\\_category & dependents & telephone & bad\\_credit\\\\\n",
       " <fct> & <int> & <fct> & <int> & <fct> & <fct> & <int> & <int> & <fct> & <int> & <fct> & <int> & <fct> & <int> & <fct> & <int>\\\\\n",
       "\\hline\n",
       "\t < 0 DM     &  6 & critical account - other non-bank loans & 1169 & unknown/none & >= 7 years  & 4 & 4 & real estate                             & 67 & none & 2 & skilled            & 1 & yes  & 0\\\\\n",
       "\t 0 - 200 DM & 48 & current loans paid                      & 5951 & < 100 DM     & 1 - 4 years & 2 & 2 & real estate                             & 22 & none & 1 & skilled            & 1 & none & 1\\\\\n",
       "\t none       & 12 & critical account - other non-bank loans & 2096 & < 100 DM     & 4 - 7 years & 2 & 3 & real estate                             & 49 & none & 1 & unskilled-resident & 2 & none & 0\\\\\n",
       "\t < 0 DM     & 42 & current loans paid                      & 7882 & < 100 DM     & 4 - 7 years & 2 & 4 & building society savings/life insurance & 45 & none & 1 & skilled            & 2 & none & 0\\\\\n",
       "\t < 0 DM     & 24 & past payment delays                     & 4870 & < 100 DM     & 1 - 4 years & 3 & 4 & unknown-none                            & 53 & none & 2 & skilled            & 2 & none & 1\\\\\n",
       "\t none       & 36 & current loans paid                      & 9055 & unknown/none & 1 - 4 years & 2 & 4 & unknown-none                            & 35 & none & 1 & unskilled-resident & 2 & yes  & 0\\\\\n",
       "\\end{tabular}\n"
      ],
      "text/markdown": [
       "\n",
       "A data.frame: 6 × 16\n",
       "\n",
       "| checking_account_status &lt;fct&gt; | loan_duration_mo &lt;int&gt; | credit_history &lt;fct&gt; | loan_amount &lt;int&gt; | savings_account_balance &lt;fct&gt; | time_employed_yrs &lt;fct&gt; | payment_pcnt_income &lt;int&gt; | time_in_residence &lt;int&gt; | property &lt;fct&gt; | age_yrs &lt;int&gt; | other_credit_outstanding &lt;fct&gt; | number_loans &lt;int&gt; | job_category &lt;fct&gt; | dependents &lt;int&gt; | telephone &lt;fct&gt; | bad_credit &lt;int&gt; |\n",
       "|---|---|---|---|---|---|---|---|---|---|---|---|---|---|---|---|\n",
       "| &lt; 0 DM     |  6 | critical account - other non-bank loans | 1169 | unknown/none | &gt;= 7 years  | 4 | 4 | real estate                             | 67 | none | 2 | skilled            | 1 | yes  | 0 |\n",
       "| 0 - 200 DM | 48 | current loans paid                      | 5951 | &lt; 100 DM     | 1 - 4 years | 2 | 2 | real estate                             | 22 | none | 1 | skilled            | 1 | none | 1 |\n",
       "| none       | 12 | critical account - other non-bank loans | 2096 | &lt; 100 DM     | 4 - 7 years | 2 | 3 | real estate                             | 49 | none | 1 | unskilled-resident | 2 | none | 0 |\n",
       "| &lt; 0 DM     | 42 | current loans paid                      | 7882 | &lt; 100 DM     | 4 - 7 years | 2 | 4 | building society savings/life insurance | 45 | none | 1 | skilled            | 2 | none | 0 |\n",
       "| &lt; 0 DM     | 24 | past payment delays                     | 4870 | &lt; 100 DM     | 1 - 4 years | 3 | 4 | unknown-none                            | 53 | none | 2 | skilled            | 2 | none | 1 |\n",
       "| none       | 36 | current loans paid                      | 9055 | unknown/none | 1 - 4 years | 2 | 4 | unknown-none                            | 35 | none | 1 | unskilled-resident | 2 | yes  | 0 |\n",
       "\n"
      ],
      "text/plain": [
       "  checking_account_status loan_duration_mo\n",
       "1 < 0 DM                   6              \n",
       "2 0 - 200 DM              48              \n",
       "3 none                    12              \n",
       "4 < 0 DM                  42              \n",
       "5 < 0 DM                  24              \n",
       "6 none                    36              \n",
       "  credit_history                          loan_amount savings_account_balance\n",
       "1 critical account - other non-bank loans 1169        unknown/none           \n",
       "2 current loans paid                      5951        < 100 DM               \n",
       "3 critical account - other non-bank loans 2096        < 100 DM               \n",
       "4 current loans paid                      7882        < 100 DM               \n",
       "5 past payment delays                     4870        < 100 DM               \n",
       "6 current loans paid                      9055        unknown/none           \n",
       "  time_employed_yrs payment_pcnt_income time_in_residence\n",
       "1 >= 7 years        4                   4                \n",
       "2 1 - 4 years       2                   2                \n",
       "3 4 - 7 years       2                   3                \n",
       "4 4 - 7 years       2                   4                \n",
       "5 1 - 4 years       3                   4                \n",
       "6 1 - 4 years       2                   4                \n",
       "  property                                age_yrs other_credit_outstanding\n",
       "1 real estate                             67      none                    \n",
       "2 real estate                             22      none                    \n",
       "3 real estate                             49      none                    \n",
       "4 building society savings/life insurance 45      none                    \n",
       "5 unknown-none                            53      none                    \n",
       "6 unknown-none                            35      none                    \n",
       "  number_loans job_category       dependents telephone bad_credit\n",
       "1 2            skilled            1          yes       0         \n",
       "2 1            skilled            1          none      1         \n",
       "3 1            unskilled-resident 2          none      0         \n",
       "4 1            skilled            2          none      0         \n",
       "5 2            skilled            2          none      1         \n",
       "6 1            unskilled-resident 2          yes       0         "
      ]
     },
     "metadata": {},
     "output_type": "display_data"
    }
   ],
   "source": [
    "credit = read.csv('German_Credit_Preped.csv', header = TRUE)\n",
    "## Subset the data frame\n",
    "credit = credit[,c('checking_account_status', 'loan_duration_mo', 'credit_history', 'loan_amount', 'savings_account_balance',\n",
    "                   'time_employed_yrs', 'payment_pcnt_income', 'time_in_residence', 'property', 'age_yrs',\n",
    "                   'other_credit_outstanding', 'number_loans', 'job_category', 'dependents', 'telephone', 'bad_credit' )]\n",
    "print(dim(credit))\n",
    "names(credit)\n",
    "head(credit)"
   ]
  },
  {
   "cell_type": "markdown",
   "metadata": {},
   "source": [
    "Cross validation will be used to train the model. Since folds will be selected from the entire dataset the numeric features are scaled in batch. Execute the code in the cell below to accomplish this: "
   ]
  },
  {
   "cell_type": "code",
   "execution_count": 16,
   "metadata": {},
   "outputs": [
    {
     "data": {
      "text/html": [
       "<table>\n",
       "<caption>A data.frame: 6 × 7</caption>\n",
       "<thead>\n",
       "\t<tr><th scope=col>loan_duration_mo</th><th scope=col>loan_amount</th><th scope=col>payment_pcnt_income</th><th scope=col>time_in_residence</th><th scope=col>age_yrs</th><th scope=col>number_loans</th><th scope=col>dependents</th></tr>\n",
       "\t<tr><th scope=col>&lt;dbl&gt;</th><th scope=col>&lt;dbl&gt;</th><th scope=col>&lt;dbl&gt;</th><th scope=col>&lt;dbl&gt;</th><th scope=col>&lt;dbl&gt;</th><th scope=col>&lt;dbl&gt;</th><th scope=col>&lt;dbl&gt;</th></tr>\n",
       "</thead>\n",
       "<tbody>\n",
       "\t<tr><td>-1.2358595</td><td>-0.7447588</td><td> 0.91801781</td><td> 1.0464631</td><td> 2.76507291</td><td> 1.0265652</td><td>-0.4280754</td></tr>\n",
       "\t<tr><td> 2.2470700</td><td> 0.9493418</td><td>-0.86974813</td><td>-0.7655942</td><td>-1.19080809</td><td>-0.7045734</td><td>-0.4280754</td></tr>\n",
       "\t<tr><td>-0.7382981</td><td>-0.4163541</td><td>-0.86974813</td><td> 0.1404344</td><td> 1.18272051</td><td>-0.7045734</td><td> 2.3337012</td></tr>\n",
       "\t<tr><td> 1.7495086</td><td> 1.6334296</td><td>-0.86974813</td><td> 1.0464631</td><td> 0.83108664</td><td>-0.7045734</td><td> 2.3337012</td></tr>\n",
       "\t<tr><td> 0.2568246</td><td> 0.5663801</td><td> 0.02413484</td><td> 1.0464631</td><td> 1.53435438</td><td> 1.0265652</td><td> 2.3337012</td></tr>\n",
       "\t<tr><td> 1.2519473</td><td> 2.0489838</td><td>-0.86974813</td><td> 1.0464631</td><td>-0.04799802</td><td>-0.7045734</td><td> 2.3337012</td></tr>\n",
       "</tbody>\n",
       "</table>\n"
      ],
      "text/latex": [
       "A data.frame: 6 × 7\n",
       "\\begin{tabular}{r|lllllll}\n",
       " loan\\_duration\\_mo & loan\\_amount & payment\\_pcnt\\_income & time\\_in\\_residence & age\\_yrs & number\\_loans & dependents\\\\\n",
       " <dbl> & <dbl> & <dbl> & <dbl> & <dbl> & <dbl> & <dbl>\\\\\n",
       "\\hline\n",
       "\t -1.2358595 & -0.7447588 &  0.91801781 &  1.0464631 &  2.76507291 &  1.0265652 & -0.4280754\\\\\n",
       "\t  2.2470700 &  0.9493418 & -0.86974813 & -0.7655942 & -1.19080809 & -0.7045734 & -0.4280754\\\\\n",
       "\t -0.7382981 & -0.4163541 & -0.86974813 &  0.1404344 &  1.18272051 & -0.7045734 &  2.3337012\\\\\n",
       "\t  1.7495086 &  1.6334296 & -0.86974813 &  1.0464631 &  0.83108664 & -0.7045734 &  2.3337012\\\\\n",
       "\t  0.2568246 &  0.5663801 &  0.02413484 &  1.0464631 &  1.53435438 &  1.0265652 &  2.3337012\\\\\n",
       "\t  1.2519473 &  2.0489838 & -0.86974813 &  1.0464631 & -0.04799802 & -0.7045734 &  2.3337012\\\\\n",
       "\\end{tabular}\n"
      ],
      "text/markdown": [
       "\n",
       "A data.frame: 6 × 7\n",
       "\n",
       "| loan_duration_mo &lt;dbl&gt; | loan_amount &lt;dbl&gt; | payment_pcnt_income &lt;dbl&gt; | time_in_residence &lt;dbl&gt; | age_yrs &lt;dbl&gt; | number_loans &lt;dbl&gt; | dependents &lt;dbl&gt; |\n",
       "|---|---|---|---|---|---|---|\n",
       "| -1.2358595 | -0.7447588 |  0.91801781 |  1.0464631 |  2.76507291 |  1.0265652 | -0.4280754 |\n",
       "|  2.2470700 |  0.9493418 | -0.86974813 | -0.7655942 | -1.19080809 | -0.7045734 | -0.4280754 |\n",
       "| -0.7382981 | -0.4163541 | -0.86974813 |  0.1404344 |  1.18272051 | -0.7045734 |  2.3337012 |\n",
       "|  1.7495086 |  1.6334296 | -0.86974813 |  1.0464631 |  0.83108664 | -0.7045734 |  2.3337012 |\n",
       "|  0.2568246 |  0.5663801 |  0.02413484 |  1.0464631 |  1.53435438 |  1.0265652 |  2.3337012 |\n",
       "|  1.2519473 |  2.0489838 | -0.86974813 |  1.0464631 | -0.04799802 | -0.7045734 |  2.3337012 |\n",
       "\n"
      ],
      "text/plain": [
       "  loan_duration_mo loan_amount payment_pcnt_income time_in_residence\n",
       "1 -1.2358595       -0.7447588   0.91801781          1.0464631       \n",
       "2  2.2470700        0.9493418  -0.86974813         -0.7655942       \n",
       "3 -0.7382981       -0.4163541  -0.86974813          0.1404344       \n",
       "4  1.7495086        1.6334296  -0.86974813          1.0464631       \n",
       "5  0.2568246        0.5663801   0.02413484          1.0464631       \n",
       "6  1.2519473        2.0489838  -0.86974813          1.0464631       \n",
       "  age_yrs     number_loans dependents\n",
       "1  2.76507291  1.0265652   -0.4280754\n",
       "2 -1.19080809 -0.7045734   -0.4280754\n",
       "3  1.18272051 -0.7045734    2.3337012\n",
       "4  0.83108664 -0.7045734    2.3337012\n",
       "5  1.53435438  1.0265652    2.3337012\n",
       "6 -0.04799802 -0.7045734    2.3337012"
      ]
     },
     "metadata": {},
     "output_type": "display_data"
    }
   ],
   "source": [
    "num_cols = c('loan_duration_mo', 'loan_amount', 'payment_pcnt_income',\n",
    "             'time_in_residence', 'age_yrs', 'number_loans', 'dependents')\n",
    "\n",
    "preProcValues <- preProcess(credit[,num_cols], method = c(\"center\", \"scale\"))\n",
    "credit[,num_cols] = predict(preProcValues, credit[,num_cols])\n",
    "head(credit[,num_cols])"
   ]
  },
  {
   "cell_type": "markdown",
   "metadata": {},
   "source": [
    "The R Caret package computes most performance metrics using the positive cases. For example, recall is a measure of correct classification of positive cases. Therefore, it is important to have the coding of the label correct. The code in the cell below creates a factor (categorical) variable and coerces the levels of the label column, `bad_credit`. Execute this code. "
   ]
  },
  {
   "cell_type": "code",
   "execution_count": 20,
   "metadata": {},
   "outputs": [
    {
     "data": {
      "text/html": [
       "<ol class=list-inline>\n",
       "\t<li>good</li>\n",
       "\t<li>good</li>\n",
       "\t<li>good</li>\n",
       "\t<li>good</li>\n",
       "\t<li>good</li>\n",
       "</ol>\n",
       "\n",
       "<details>\n",
       "\t<summary style=display:list-item;cursor:pointer>\n",
       "\t\t<strong>Levels</strong>:\n",
       "\t</summary>\n",
       "\t<ol class=list-inline>\n",
       "\t\t<li>'bad'</li>\n",
       "\t\t<li>'good'</li>\n",
       "\t</ol>\n",
       "</details>"
      ],
      "text/latex": [
       "\\begin{enumerate*}\n",
       "\\item good\n",
       "\\item good\n",
       "\\item good\n",
       "\\item good\n",
       "\\item good\n",
       "\\end{enumerate*}\n",
       "\n",
       "\\emph{Levels}: \\begin{enumerate*}\n",
       "\\item 'bad'\n",
       "\\item 'good'\n",
       "\\end{enumerate*}\n"
      ],
      "text/markdown": [
       "1. good\n",
       "2. good\n",
       "3. good\n",
       "4. good\n",
       "5. good\n",
       "\n",
       "\n",
       "\n",
       "**Levels**: 1. 'bad'\n",
       "2. 'good'\n",
       "\n",
       "\n"
      ],
      "text/plain": [
       "[1] good good good good good\n",
       "Levels: bad good"
      ]
     },
     "metadata": {},
     "output_type": "display_data"
    }
   ],
   "source": [
    "credit$bad_credit <- ifelse(credit$bad_credit == 1, 'bad', 'good')\n",
    "credit$bad_credit <- factor(credit$bad_credit, levels = c('bad', 'good'))\n",
    "credit$bad_credit[1:5]"
   ]
  },
  {
   "cell_type": "markdown",
   "metadata": {},
   "source": [
    "In the results above you can see the new coding of the label column along with the levels, {'bad', 'good'}. \n",
    "\n",
    "As the inner loop of a nested cross validation, the code in the cell below uses the capability of the R Caret package to estimate the best hyperparameters using 5 fold cross validation. This first cross validation is performed using ROC as the metric. There are a few points to note here:\n",
    "1. A Caret `trainControl` object is used to define the 5 fold cross validation. The `twoClassSummary` function is specified, making ROC the metric for hyperparameter optimization. \n",
    "2. The model is trained using all features as can be seen from the model formula in the Caret `train` function. \n",
    "3. `ROC` is specified as a `metric` in the call to `train`. \n",
    "4. Weights are specified to help with the class imbalance and the cost imbalance of misclassification of bad credit customers. \n",
    "5. The `train` function uses a `tuneGrid` argument to define the hyperparameters to search. \n",
    "\n",
    "Execute this code, examine the result, and answer **Question 3** on the course page."
   ]
  },
  {
   "cell_type": "code",
   "execution_count": 21,
   "metadata": {
    "scrolled": false
   },
   "outputs": [
    {
     "ename": "ERROR",
     "evalue": "Error: One or more factor levels in the outcome has no data: 'bad'\n",
     "output_type": "error",
     "traceback": [
      "Error: One or more factor levels in the outcome has no data: 'bad'\nTraceback:\n",
      "1. train(bad_credit ~ ., data = credit, method = \"nnet\", trControl = fitControl, \n .     tuneGrid = paramGrid, weights = weights, trace = FALSE, metric = \"ROC\")",
      "2. train.formula(bad_credit ~ ., data = credit, method = \"nnet\", \n .     trControl = fitControl, tuneGrid = paramGrid, weights = weights, \n .     trace = FALSE, metric = \"ROC\")",
      "3. train(x, y, weights = w, ...)",
      "4. train.default(x, y, weights = w, ...)",
      "5. stop(paste(\"One or more factor levels in the outcome has no data:\", \n .     xtab_msg), call. = FALSE)"
     ]
    }
   ],
   "source": [
    "weights = ifelse(credit$bad_credit == 'bad', 0.66, 0.34)\n",
    "\n",
    "fitControl <- trainControl(method = \"cv\",\n",
    "                           number = 5,\n",
    "                           returnResamp=\"all\",\n",
    "                           savePredictions = TRUE,\n",
    "                           classProbs = TRUE,\n",
    "                           summaryFunction = twoClassSummary)\n",
    "paramGrid <- expand.grid(size = c(3, 6, 12, 25), decay = c(1.0, 0.5, 0.1))\n",
    "\n",
    "set.seed(1234)\n",
    "nn_fit_inside_tw <- train(bad_credit ~ ., \n",
    "                          data = credit,  \n",
    "                          method = \"nnet\", # Neural network model \n",
    "                          trControl = fitControl, \n",
    "                          tuneGrid = paramGrid, \n",
    "                          weights = weights, \n",
    "                          trace = FALSE,\n",
    "                          metric=\"ROC\")\n",
    "print(nn_fit_inside_tw)"
   ]
  },
  {
   "cell_type": "markdown",
   "metadata": {},
   "source": [
    "The grid of hyperpameters searched by the Caret package includes both `size` and `decay`. The printed tables shows the values of the metrics as a function of the hyperparameters in the search grid. Sens is short for sensitivity which is the same as global recall and Spec is specificity which is the true negative rate $= \\frac{TN}{TN + FP}$\n",
    "\n",
    "The hyperparameter optimization can also be performed using Recall as a metric. The code in the cell below uses the `prSummary` function for the `summaryFunction` argument for `trainControl` and sets the `metric` as `Recall`. Execute this call and examine the results."
   ]
  },
  {
   "cell_type": "code",
   "execution_count": 22,
   "metadata": {},
   "outputs": [
    {
     "ename": "ERROR",
     "evalue": "Error: One or more factor levels in the outcome has no data: 'bad'\n",
     "output_type": "error",
     "traceback": [
      "Error: One or more factor levels in the outcome has no data: 'bad'\nTraceback:\n",
      "1. train(bad_credit ~ ., data = credit, method = \"nnet\", trControl = fitControl, \n .     tuneGrid = paramGrid, weights = weights, trace = FALSE, metric = \"Recall\")",
      "2. train.formula(bad_credit ~ ., data = credit, method = \"nnet\", \n .     trControl = fitControl, tuneGrid = paramGrid, weights = weights, \n .     trace = FALSE, metric = \"Recall\")",
      "3. train(x, y, weights = w, ...)",
      "4. train.default(x, y, weights = w, ...)",
      "5. stop(paste(\"One or more factor levels in the outcome has no data:\", \n .     xtab_msg), call. = FALSE)"
     ]
    }
   ],
   "source": [
    "fitControl <- trainControl(method = \"cv\",\n",
    "                           number = 5,\n",
    "                           returnResamp=\"all\",\n",
    "                           savePredictions = TRUE,\n",
    "                           classProbs = TRUE,\n",
    "                           summaryFunction = prSummary)\n",
    "\n",
    "set.seed(1234)\n",
    "nn_fit_inside_pr <- train(bad_credit ~ ., \n",
    "                          data = credit,  \n",
    "                          method = \"nnet\", # Neural network model \n",
    "                          trControl = fitControl, \n",
    "                          tuneGrid = paramGrid, \n",
    "                          weights = weights, \n",
    "                          trace = FALSE, \n",
    "                          metric=\"Recall\")\n",
    "print(nn_fit_inside_pr)"
   ]
  },
  {
   "cell_type": "markdown",
   "metadata": {},
   "source": [
    "The question now is, given the optimal hyperparameters, of the model trained on accuracy, which features are the most important? The code in the cell below computes and displays feature importance using the Caret `varImp` function. Execute this code and examine the results. "
   ]
  },
  {
   "cell_type": "code",
   "execution_count": null,
   "metadata": {},
   "outputs": [],
   "source": [
    "options(repr.plot.width=8, repr.plot.height=6)\n",
    "var_imp = varImp(nn_fit_inside_tw)\n",
    "print(var_imp)\n",
    "plot(var_imp)"
   ]
  },
  {
   "cell_type": "markdown",
   "metadata": {},
   "source": [
    "It is not clear that pruning any of these features is worth while. Neural networks are know for being able to use a large and complex feature set. \n",
    "\n",
    "To better understand the parameter sweep, execute the code in the cell below to create a chart."
   ]
  },
  {
   "cell_type": "code",
   "execution_count": null,
   "metadata": {},
   "outputs": [],
   "source": [
    "options(repr.plot.width=5, repr.plot.height=4)\n",
    "trellis.par.set(caretTheme())\n",
    "plot(nn_fit_inside_tw)  "
   ]
  },
  {
   "cell_type": "markdown",
   "metadata": {},
   "source": [
    "Examine these results. Notice that there is little difference between weight decay of 1.0 and 0.5. Further, changes with number of hidden units is minimal. It is often the case that robust machine learning models are relatively insensitive to small changes in hyperparameter values. \n",
    "\n",
    "Finally, to verify that the model will generalize well it is time to perform the outside CV loop. The code in the cell below defines a parameter grid with just the optimal hyperparameter values. The CV then repeatedly fits the model with this single hyperparameter. Execute this code and examine the result."
   ]
  },
  {
   "cell_type": "code",
   "execution_count": 23,
   "metadata": {},
   "outputs": [
    {
     "ename": "ERROR",
     "evalue": "Error: One or more factor levels in the outcome has no data: 'bad'\n",
     "output_type": "error",
     "traceback": [
      "Error: One or more factor levels in the outcome has no data: 'bad'\nTraceback:\n",
      "1. train(bad_credit ~ ., data = credit, method = \"nnet\", trControl = fitControl, \n .     tuneGrid = paramGrid, weights = weights, trace = FALSE, metric = \"ROC\")",
      "2. train.formula(bad_credit ~ ., data = credit, method = \"nnet\", \n .     trControl = fitControl, tuneGrid = paramGrid, weights = weights, \n .     trace = FALSE, metric = \"ROC\")",
      "3. train(x, y, weights = w, ...)",
      "4. train.default(x, y, weights = w, ...)",
      "5. stop(paste(\"One or more factor levels in the outcome has no data:\", \n .     xtab_msg), call. = FALSE)"
     ]
    }
   ],
   "source": [
    "fitControl <- trainControl(method = \"cv\",\n",
    "                           number = 5,\n",
    "                           returnResamp=\"all\",\n",
    "                           savePredictions = TRUE,\n",
    "                           classProbs = TRUE,\n",
    "                           summaryFunction = twoClassSummary)\n",
    "paramGrid <- expand.grid(size = c(3), decay = c(0.5))\n",
    "\n",
    "set.seed(1234)\n",
    "nn_fit_outside_tw <- train(bad_credit ~ ., \n",
    "                          data = credit,  \n",
    "                          method = \"nnet\", # Neural network model \n",
    "                          trControl = fitControl, \n",
    "                          tuneGrid = paramGrid, \n",
    "                          weights = weights, \n",
    "                          trace = FALSE,\n",
    "                          metric=\"ROC\")\n",
    "\n",
    "print_metrics = function(mod){\n",
    "    means = c(apply(mod$resample[,1:3], 2, mean), size = mod$resample[1,4], decay = mod$resample[1,5], Resample = 'Mean')\n",
    "    stds = c(apply(mod$resample[,1:3], 2, sd), size = mod$resample[1,4], decay = mod$resample[1,5], Resample = 'STD')\n",
    "    out = rbind(mod$resample, means, stds)\n",
    "    out[,1:3] = lapply(out[,1:3], function(x) round(as.numeric(x), 3))\n",
    "    out\n",
    "}\n",
    "print_metrics(nn_fit_outside_tw)"
   ]
  },
  {
   "cell_type": "markdown",
   "metadata": {},
   "source": [
    "Examine these results. Notice that the standard deviation of the mean of the AUC are nearly an order of magnitude smaller than the mean. This indicates that this model is likely to generalize well. \n",
    "\n",
    "***\n",
    "**Note:** The predict method can be used with this optimal model to classify unknown cases.\n",
    "***"
   ]
  },
  {
   "cell_type": "markdown",
   "metadata": {},
   "source": [
    "## Summary\n",
    "\n",
    "In this lab you have accomplished the following:\n",
    "1. Used neural models to classify the cases of the iris data. For this simple model, adding model capacity had no effect. \n",
    "2. Used 5 fold to find estimated optimal hyperparameters for a neural network model to classify credit risk cases.\n",
    "3. Used the outer loop of the nested cross validation to demonstrate that the model is likely to generalize.  "
   ]
  }
 ],
 "metadata": {
  "kernelspec": {
   "display_name": "R",
   "language": "R",
   "name": "ir"
  },
  "language_info": {
   "codemirror_mode": "r",
   "file_extension": ".r",
   "mimetype": "text/x-r-source",
   "name": "R",
   "pygments_lexer": "r",
   "version": "3.6.1"
  }
 },
 "nbformat": 4,
 "nbformat_minor": 2
}
