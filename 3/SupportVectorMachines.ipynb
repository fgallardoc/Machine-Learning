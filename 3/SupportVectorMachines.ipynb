{
 "cells": [
  {
   "cell_type": "markdown",
   "metadata": {},
   "source": [
    "# Support Vector Machine Models\n",
    "\n",
    "**Support vector machines (SVMs)** are a widely used and powerful category of machine learning algorithms. There are many variations on the basic idea of an SVM. An SVM attempts to **maximally separate** classes by finding the **support vector** with the lowest error rate or maximum separation. SVMs can use many types of **kernel functions**. The most common kernel functions are **linear** and the **radial basis function** or **RBF**. The linear basis function attempts to separate classes by finding hyperplanes in the feature space that maximally separate classes. The RBF uses set of local Gaussian shaped basis kernels to find a nonlinear separation of the classes. "
   ]
  },
  {
   "cell_type": "markdown",
   "metadata": {},
   "source": [
    "## Example: Iris dataset\n",
    "\n",
    "As a first example you will use SVMs to classify the species of iris flowers. \n",
    "\n",
    "As a first step, execute the code in the cell below to load the required packages to run the rest of this notebook. \n",
    "\n",
    "\n",
    "> **Note:** If you are running in Azure Notebooks, make sure that you run the code in the `setup.ipynb` notebook at the start of you session to ensure your environment is correctly configured. "
   ]
  },
  {
   "cell_type": "code",
   "execution_count": 3,
   "metadata": {
    "scrolled": true
   },
   "outputs": [
    {
     "name": "stderr",
     "output_type": "stream",
     "text": [
      "\n",
      "Attaching package: 'dplyr'\n",
      "\n",
      "The following object is masked from 'package:gridExtra':\n",
      "\n",
      "    combine\n",
      "\n",
      "The following objects are masked from 'package:stats':\n",
      "\n",
      "    filter, lag\n",
      "\n",
      "The following objects are masked from 'package:base':\n",
      "\n",
      "    intersect, setdiff, setequal, union\n",
      "\n",
      "Loading required package: lattice\n",
      "\n",
      "Attaching package: 'MLmetrics'\n",
      "\n",
      "The following objects are masked from 'package:caret':\n",
      "\n",
      "    MAE, RMSE\n",
      "\n",
      "The following object is masked from 'package:base':\n",
      "\n",
      "    Recall\n",
      "\n"
     ]
    }
   ],
   "source": [
    "## Import packages\n",
    "library(ggplot2)\n",
    "library(gridExtra)\n",
    "library(repr)\n",
    "library(dplyr)\n",
    "library(caret)\n",
    "library(e1071)\n",
    "library(MLmetrics)\n",
    "\n",
    "options(repr.plot.width=4, repr.plot.height=4) # Set the initial plot area dimensions"
   ]
  },
  {
   "cell_type": "markdown",
   "metadata": {},
   "source": [
    "To get a feel for these data, you will now load and plot them. Execute this code and examine the results. "
   ]
  },
  {
   "cell_type": "code",
   "execution_count": 4,
   "metadata": {},
   "outputs": [
    {
     "data": {
      "text/html": [
       "<table>\n",
       "<caption>A data.frame: 10 × 5</caption>\n",
       "<thead>\n",
       "\t<tr><th scope=col>Sepal.Length</th><th scope=col>Sepal.Width</th><th scope=col>Petal.Length</th><th scope=col>Petal.Width</th><th scope=col>Species</th></tr>\n",
       "\t<tr><th scope=col>&lt;dbl&gt;</th><th scope=col>&lt;dbl&gt;</th><th scope=col>&lt;dbl&gt;</th><th scope=col>&lt;dbl&gt;</th><th scope=col>&lt;fct&gt;</th></tr>\n",
       "</thead>\n",
       "<tbody>\n",
       "\t<tr><td>5.1</td><td>3.5</td><td>1.4</td><td>0.2</td><td>setosa</td></tr>\n",
       "\t<tr><td>4.9</td><td>3.0</td><td>1.4</td><td>0.2</td><td>setosa</td></tr>\n",
       "\t<tr><td>4.7</td><td>3.2</td><td>1.3</td><td>0.2</td><td>setosa</td></tr>\n",
       "\t<tr><td>4.6</td><td>3.1</td><td>1.5</td><td>0.2</td><td>setosa</td></tr>\n",
       "\t<tr><td>5.0</td><td>3.6</td><td>1.4</td><td>0.2</td><td>setosa</td></tr>\n",
       "\t<tr><td>5.4</td><td>3.9</td><td>1.7</td><td>0.4</td><td>setosa</td></tr>\n",
       "\t<tr><td>4.6</td><td>3.4</td><td>1.4</td><td>0.3</td><td>setosa</td></tr>\n",
       "\t<tr><td>5.0</td><td>3.4</td><td>1.5</td><td>0.2</td><td>setosa</td></tr>\n",
       "\t<tr><td>4.4</td><td>2.9</td><td>1.4</td><td>0.2</td><td>setosa</td></tr>\n",
       "\t<tr><td>4.9</td><td>3.1</td><td>1.5</td><td>0.1</td><td>setosa</td></tr>\n",
       "</tbody>\n",
       "</table>\n"
      ],
      "text/latex": [
       "A data.frame: 10 × 5\n",
       "\\begin{tabular}{r|lllll}\n",
       " Sepal.Length & Sepal.Width & Petal.Length & Petal.Width & Species\\\\\n",
       " <dbl> & <dbl> & <dbl> & <dbl> & <fct>\\\\\n",
       "\\hline\n",
       "\t 5.1 & 3.5 & 1.4 & 0.2 & setosa\\\\\n",
       "\t 4.9 & 3.0 & 1.4 & 0.2 & setosa\\\\\n",
       "\t 4.7 & 3.2 & 1.3 & 0.2 & setosa\\\\\n",
       "\t 4.6 & 3.1 & 1.5 & 0.2 & setosa\\\\\n",
       "\t 5.0 & 3.6 & 1.4 & 0.2 & setosa\\\\\n",
       "\t 5.4 & 3.9 & 1.7 & 0.4 & setosa\\\\\n",
       "\t 4.6 & 3.4 & 1.4 & 0.3 & setosa\\\\\n",
       "\t 5.0 & 3.4 & 1.5 & 0.2 & setosa\\\\\n",
       "\t 4.4 & 2.9 & 1.4 & 0.2 & setosa\\\\\n",
       "\t 4.9 & 3.1 & 1.5 & 0.1 & setosa\\\\\n",
       "\\end{tabular}\n"
      ],
      "text/markdown": [
       "\n",
       "A data.frame: 10 × 5\n",
       "\n",
       "| Sepal.Length &lt;dbl&gt; | Sepal.Width &lt;dbl&gt; | Petal.Length &lt;dbl&gt; | Petal.Width &lt;dbl&gt; | Species &lt;fct&gt; |\n",
       "|---|---|---|---|---|\n",
       "| 5.1 | 3.5 | 1.4 | 0.2 | setosa |\n",
       "| 4.9 | 3.0 | 1.4 | 0.2 | setosa |\n",
       "| 4.7 | 3.2 | 1.3 | 0.2 | setosa |\n",
       "| 4.6 | 3.1 | 1.5 | 0.2 | setosa |\n",
       "| 5.0 | 3.6 | 1.4 | 0.2 | setosa |\n",
       "| 5.4 | 3.9 | 1.7 | 0.4 | setosa |\n",
       "| 4.6 | 3.4 | 1.4 | 0.3 | setosa |\n",
       "| 5.0 | 3.4 | 1.5 | 0.2 | setosa |\n",
       "| 4.4 | 2.9 | 1.4 | 0.2 | setosa |\n",
       "| 4.9 | 3.1 | 1.5 | 0.1 | setosa |\n",
       "\n"
      ],
      "text/plain": [
       "   Sepal.Length Sepal.Width Petal.Length Petal.Width Species\n",
       "1  5.1          3.5         1.4          0.2         setosa \n",
       "2  4.9          3.0         1.4          0.2         setosa \n",
       "3  4.7          3.2         1.3          0.2         setosa \n",
       "4  4.6          3.1         1.5          0.2         setosa \n",
       "5  5.0          3.6         1.4          0.2         setosa \n",
       "6  5.4          3.9         1.7          0.4         setosa \n",
       "7  4.6          3.4         1.4          0.3         setosa \n",
       "8  5.0          3.4         1.5          0.2         setosa \n",
       "9  4.4          2.9         1.4          0.2         setosa \n",
       "10 4.9          3.1         1.5          0.1         setosa "
      ]
     },
     "metadata": {},
     "output_type": "display_data"
    },
    {
     "data": {
      "image/png": "[encoded data removed]",
      "text/plain": [
       "plot without title"
      ]
     },
     "metadata": {},
     "output_type": "display_data"
    }
   ],
   "source": [
    "single_plot = function(df, colx, coly){\n",
    "    ggplot(df, aes_string(colx,coly)) +\n",
    "          geom_point(aes(color = factor(df$Species)), alpha = 0.4)\n",
    "}\n",
    "\n",
    "plot_iris = function(df){\n",
    "    options(repr.plot.width=8, repr.plot.height=5)\n",
    "    grid.arrange(\n",
    "        single_plot(df, 'Sepal.Length', 'Sepal.Width'),\n",
    "        single_plot(df, 'Sepal.Length', 'Petal.Length'),\n",
    "        single_plot(df, 'Petal.Length', 'Petal.Width'),\n",
    "        single_plot(df, 'Sepal.Width', 'Petal.Length'),\n",
    "        nrow = 2)\n",
    "}\n",
    "\n",
    "head(iris, 10)   \n",
    "plot_iris(iris) "
   ]
  },
  {
   "cell_type": "markdown",
   "metadata": {},
   "source": [
    "You can see that Setosa is well separated from the other two categories. The Versicolor and the Virginica show considerable overlap. The question is how well our classifier will separate these categories.    \n",
    "\n",
    "Next, execute the code in the cell below to split the dataset into test and training set. Notice that unusually, 67% of the cases are being used as the test dataset. "
   ]
  },
  {
   "cell_type": "code",
   "execution_count": 5,
   "metadata": {},
   "outputs": [
    {
     "data": {
      "text/html": [
       "<ol class=list-inline>\n",
       "\t<li>51</li>\n",
       "\t<li>5</li>\n",
       "</ol>\n"
      ],
      "text/latex": [
       "\\begin{enumerate*}\n",
       "\\item 51\n",
       "\\item 5\n",
       "\\end{enumerate*}\n"
      ],
      "text/markdown": [
       "1. 51\n",
       "2. 5\n",
       "\n",
       "\n"
      ],
      "text/plain": [
       "[1] 51  5"
      ]
     },
     "metadata": {},
     "output_type": "display_data"
    },
    {
     "data": {
      "text/html": [
       "<ol class=list-inline>\n",
       "\t<li>99</li>\n",
       "\t<li>5</li>\n",
       "</ol>\n"
      ],
      "text/latex": [
       "\\begin{enumerate*}\n",
       "\\item 99\n",
       "\\item 5\n",
       "\\end{enumerate*}\n"
      ],
      "text/markdown": [
       "1. 99\n",
       "2. 5\n",
       "\n",
       "\n"
      ],
      "text/plain": [
       "[1] 99  5"
      ]
     },
     "metadata": {},
     "output_type": "display_data"
    }
   ],
   "source": [
    "set.seed(1955)\n",
    "## Randomly sample cases to create independent training and test data\n",
    "partition = createDataPartition(iris[,'Species'], times = 1, p = 0.33, list = FALSE)\n",
    "training = iris[partition,] # Create the training sample\n",
    "dim(training)\n",
    "test = iris[-partition,] # Create the test sample\n",
    "dim(test)"
   ]
  },
  {
   "cell_type": "markdown",
   "metadata": {},
   "source": [
    "As is always the case with machine learning, numeric features  must be scaled. Execute the code in the cell below to scale the training and test datasets:"
   ]
  },
  {
   "cell_type": "code",
   "execution_count": 6,
   "metadata": {
    "scrolled": true
   },
   "outputs": [
    {
     "data": {
      "text/html": [
       "<table>\n",
       "<caption>A data.frame: 6 × 4</caption>\n",
       "<thead>\n",
       "\t<tr><th></th><th scope=col>Sepal.Length</th><th scope=col>Sepal.Width</th><th scope=col>Petal.Length</th><th scope=col>Petal.Width</th></tr>\n",
       "\t<tr><th></th><th scope=col>&lt;dbl&gt;</th><th scope=col>&lt;dbl&gt;</th><th scope=col>&lt;dbl&gt;</th><th scope=col>&lt;dbl&gt;</th></tr>\n",
       "</thead>\n",
       "<tbody>\n",
       "\t<tr><th scope=row>1</th><td>-0.8850113</td><td> 1.0640422</td><td>-1.344993</td><td>-1.284654</td></tr>\n",
       "\t<tr><th scope=row>3</th><td>-1.3716483</td><td> 0.3885299</td><td>-1.401918</td><td>-1.284654</td></tr>\n",
       "\t<tr><th scope=row>5</th><td>-1.0066706</td><td> 1.2892130</td><td>-1.344993</td><td>-1.284654</td></tr>\n",
       "\t<tr><th scope=row>6</th><td>-0.5200336</td><td> 1.9647253</td><td>-1.174218</td><td>-1.022585</td></tr>\n",
       "\t<tr><th scope=row>9</th><td>-1.7366260</td><td>-0.2869823</td><td>-1.344993</td><td>-1.284654</td></tr>\n",
       "\t<tr><th scope=row>10</th><td>-1.1283298</td><td> 0.1633592</td><td>-1.288068</td><td>-1.415689</td></tr>\n",
       "</tbody>\n",
       "</table>\n"
      ],
      "text/latex": [
       "A data.frame: 6 × 4\n",
       "\\begin{tabular}{r|llll}\n",
       "  & Sepal.Length & Sepal.Width & Petal.Length & Petal.Width\\\\\n",
       "  & <dbl> & <dbl> & <dbl> & <dbl>\\\\\n",
       "\\hline\n",
       "\t1 & -0.8850113 &  1.0640422 & -1.344993 & -1.284654\\\\\n",
       "\t3 & -1.3716483 &  0.3885299 & -1.401918 & -1.284654\\\\\n",
       "\t5 & -1.0066706 &  1.2892130 & -1.344993 & -1.284654\\\\\n",
       "\t6 & -0.5200336 &  1.9647253 & -1.174218 & -1.022585\\\\\n",
       "\t9 & -1.7366260 & -0.2869823 & -1.344993 & -1.284654\\\\\n",
       "\t10 & -1.1283298 &  0.1633592 & -1.288068 & -1.415689\\\\\n",
       "\\end{tabular}\n"
      ],
      "text/markdown": [
       "\n",
       "A data.frame: 6 × 4\n",
       "\n",
       "| <!--/--> | Sepal.Length &lt;dbl&gt; | Sepal.Width &lt;dbl&gt; | Petal.Length &lt;dbl&gt; | Petal.Width &lt;dbl&gt; |\n",
       "|---|---|---|---|---|\n",
       "| 1 | -0.8850113 |  1.0640422 | -1.344993 | -1.284654 |\n",
       "| 3 | -1.3716483 |  0.3885299 | -1.401918 | -1.284654 |\n",
       "| 5 | -1.0066706 |  1.2892130 | -1.344993 | -1.284654 |\n",
       "| 6 | -0.5200336 |  1.9647253 | -1.174218 | -1.022585 |\n",
       "| 9 | -1.7366260 | -0.2869823 | -1.344993 | -1.284654 |\n",
       "| 10 | -1.1283298 |  0.1633592 | -1.288068 | -1.415689 |\n",
       "\n"
      ],
      "text/plain": [
       "   Sepal.Length Sepal.Width Petal.Length Petal.Width\n",
       "1  -0.8850113    1.0640422  -1.344993    -1.284654  \n",
       "3  -1.3716483    0.3885299  -1.401918    -1.284654  \n",
       "5  -1.0066706    1.2892130  -1.344993    -1.284654  \n",
       "6  -0.5200336    1.9647253  -1.174218    -1.022585  \n",
       "9  -1.7366260   -0.2869823  -1.344993    -1.284654  \n",
       "10 -1.1283298    0.1633592  -1.288068    -1.415689  "
      ]
     },
     "metadata": {},
     "output_type": "display_data"
    }
   ],
   "source": [
    "num_cols = c('Sepal.Length', 'Sepal.Width', 'Petal.Length', 'Petal.Width')\n",
    "preProcValues <- preProcess(training[,num_cols], method = c(\"center\", \"scale\"))\n",
    "\n",
    "training[,num_cols] = predict(preProcValues, training[,num_cols])\n",
    "test[,num_cols] = predict(preProcValues, test[,num_cols])\n",
    "head(training[,num_cols])"
   ]
  },
  {
   "cell_type": "markdown",
   "metadata": {},
   "source": [
    "Now you will define and fit an SVM model. The code in the cell uses the `svm` function from the e1071 package. The model formula is specified along with the data, the requirement not to scale and the `type` of model required. Execute this code."
   ]
  },
  {
   "cell_type": "code",
   "execution_count": 7,
   "metadata": {},
   "outputs": [],
   "source": [
    "svm_mod = svm(factor(Species) ~ ., data = training, scale = FALSE, type = 'C-classification')"
   ]
  },
  {
   "cell_type": "markdown",
   "metadata": {},
   "source": [
    "Next, the code in the cell below uses the `predict` method is used to compute the multinomial class probabilities from the scaled features. Execute this code. "
   ]
  },
  {
   "cell_type": "code",
   "execution_count": 8,
   "metadata": {},
   "outputs": [
    {
     "data": {
      "text/html": [
       "<table>\n",
       "<caption>A data.frame: 10 × 6</caption>\n",
       "<thead>\n",
       "\t<tr><th></th><th scope=col>Sepal.Length</th><th scope=col>Sepal.Width</th><th scope=col>Petal.Length</th><th scope=col>Petal.Width</th><th scope=col>Species</th><th scope=col>scores</th></tr>\n",
       "\t<tr><th></th><th scope=col>&lt;dbl&gt;</th><th scope=col>&lt;dbl&gt;</th><th scope=col>&lt;dbl&gt;</th><th scope=col>&lt;dbl&gt;</th><th scope=col>&lt;fct&gt;</th><th scope=col>&lt;fct&gt;</th></tr>\n",
       "</thead>\n",
       "<tbody>\n",
       "\t<tr><th scope=row>2</th><td>-1.12832981</td><td>-0.06181158</td><td>-1.344993</td><td>-1.284654</td><td>setosa</td><td>setosa</td></tr>\n",
       "\t<tr><th scope=row>4</th><td>-1.49330752</td><td> 0.16335918</td><td>-1.288068</td><td>-1.284654</td><td>setosa</td><td>setosa</td></tr>\n",
       "\t<tr><th scope=row>7</th><td>-1.49330752</td><td> 0.83887147</td><td>-1.344993</td><td>-1.153619</td><td>setosa</td><td>setosa</td></tr>\n",
       "\t<tr><th scope=row>8</th><td>-1.00667057</td><td> 0.83887147</td><td>-1.288068</td><td>-1.284654</td><td>setosa</td><td>setosa</td></tr>\n",
       "\t<tr><th scope=row>13</th><td>-1.24998905</td><td>-0.06181158</td><td>-1.344993</td><td>-1.415689</td><td>setosa</td><td>setosa</td></tr>\n",
       "\t<tr><th scope=row>14</th><td>-1.85828524</td><td>-0.06181158</td><td>-1.515768</td><td>-1.415689</td><td>setosa</td><td>setosa</td></tr>\n",
       "\t<tr><th scope=row>15</th><td>-0.03339665</td><td> 2.18989606</td><td>-1.458843</td><td>-1.284654</td><td>setosa</td><td>setosa</td></tr>\n",
       "\t<tr><th scope=row>16</th><td>-0.15505589</td><td> 3.09057911</td><td>-1.288068</td><td>-1.022585</td><td>setosa</td><td>setosa</td></tr>\n",
       "\t<tr><th scope=row>17</th><td>-0.52003361</td><td> 1.96472529</td><td>-1.401918</td><td>-1.022585</td><td>setosa</td><td>setosa</td></tr>\n",
       "\t<tr><th scope=row>18</th><td>-0.88501133</td><td> 1.06404224</td><td>-1.344993</td><td>-1.153619</td><td>setosa</td><td>setosa</td></tr>\n",
       "</tbody>\n",
       "</table>\n"
      ],
      "text/latex": [
       "A data.frame: 10 × 6\n",
       "\\begin{tabular}{r|llllll}\n",
       "  & Sepal.Length & Sepal.Width & Petal.Length & Petal.Width & Species & scores\\\\\n",
       "  & <dbl> & <dbl> & <dbl> & <dbl> & <fct> & <fct>\\\\\n",
       "\\hline\n",
       "\t2 & -1.12832981 & -0.06181158 & -1.344993 & -1.284654 & setosa & setosa\\\\\n",
       "\t4 & -1.49330752 &  0.16335918 & -1.288068 & -1.284654 & setosa & setosa\\\\\n",
       "\t7 & -1.49330752 &  0.83887147 & -1.344993 & -1.153619 & setosa & setosa\\\\\n",
       "\t8 & -1.00667057 &  0.83887147 & -1.288068 & -1.284654 & setosa & setosa\\\\\n",
       "\t13 & -1.24998905 & -0.06181158 & -1.344993 & -1.415689 & setosa & setosa\\\\\n",
       "\t14 & -1.85828524 & -0.06181158 & -1.515768 & -1.415689 & setosa & setosa\\\\\n",
       "\t15 & -0.03339665 &  2.18989606 & -1.458843 & -1.284654 & setosa & setosa\\\\\n",
       "\t16 & -0.15505589 &  3.09057911 & -1.288068 & -1.022585 & setosa & setosa\\\\\n",
       "\t17 & -0.52003361 &  1.96472529 & -1.401918 & -1.022585 & setosa & setosa\\\\\n",
       "\t18 & -0.88501133 &  1.06404224 & -1.344993 & -1.153619 & setosa & setosa\\\\\n",
       "\\end{tabular}\n"
      ],
      "text/markdown": [
       "\n",
       "A data.frame: 10 × 6\n",
       "\n",
       "| <!--/--> | Sepal.Length &lt;dbl&gt; | Sepal.Width &lt;dbl&gt; | Petal.Length &lt;dbl&gt; | Petal.Width &lt;dbl&gt; | Species &lt;fct&gt; | scores &lt;fct&gt; |\n",
       "|---|---|---|---|---|---|---|\n",
       "| 2 | -1.12832981 | -0.06181158 | -1.344993 | -1.284654 | setosa | setosa |\n",
       "| 4 | -1.49330752 |  0.16335918 | -1.288068 | -1.284654 | setosa | setosa |\n",
       "| 7 | -1.49330752 |  0.83887147 | -1.344993 | -1.153619 | setosa | setosa |\n",
       "| 8 | -1.00667057 |  0.83887147 | -1.288068 | -1.284654 | setosa | setosa |\n",
       "| 13 | -1.24998905 | -0.06181158 | -1.344993 | -1.415689 | setosa | setosa |\n",
       "| 14 | -1.85828524 | -0.06181158 | -1.515768 | -1.415689 | setosa | setosa |\n",
       "| 15 | -0.03339665 |  2.18989606 | -1.458843 | -1.284654 | setosa | setosa |\n",
       "| 16 | -0.15505589 |  3.09057911 | -1.288068 | -1.022585 | setosa | setosa |\n",
       "| 17 | -0.52003361 |  1.96472529 | -1.401918 | -1.022585 | setosa | setosa |\n",
       "| 18 | -0.88501133 |  1.06404224 | -1.344993 | -1.153619 | setosa | setosa |\n",
       "\n"
      ],
      "text/plain": [
       "   Sepal.Length Sepal.Width Petal.Length Petal.Width Species scores\n",
       "2  -1.12832981  -0.06181158 -1.344993    -1.284654   setosa  setosa\n",
       "4  -1.49330752   0.16335918 -1.288068    -1.284654   setosa  setosa\n",
       "7  -1.49330752   0.83887147 -1.344993    -1.153619   setosa  setosa\n",
       "8  -1.00667057   0.83887147 -1.288068    -1.284654   setosa  setosa\n",
       "13 -1.24998905  -0.06181158 -1.344993    -1.415689   setosa  setosa\n",
       "14 -1.85828524  -0.06181158 -1.515768    -1.415689   setosa  setosa\n",
       "15 -0.03339665   2.18989606 -1.458843    -1.284654   setosa  setosa\n",
       "16 -0.15505589   3.09057911 -1.288068    -1.022585   setosa  setosa\n",
       "17 -0.52003361   1.96472529 -1.401918    -1.022585   setosa  setosa\n",
       "18 -0.88501133   1.06404224 -1.344993    -1.153619   setosa  setosa"
      ]
     },
     "metadata": {},
     "output_type": "display_data"
    }
   ],
   "source": [
    "test[,'scores'] = predict(svm_mod, newdata = test)\n",
    "test[1:10,]"
   ]
  },
  {
   "cell_type": "markdown",
   "metadata": {},
   "source": [
    "You can see actual species and predicted species. \n",
    "\n",
    "It is time to evaluate the model results. Keep in mind that the problem has been made deliberately difficult, by having more test cases than training cases. The iris data has three species categories. Therefore it is necessary to use evaluation code for a three category problem. The function in the cell below extends code from previous labs to deal with a three category problem. Execute this code and examine the results.\n",
    "\n",
    "Then, answer **Question 1** on the course page."
   ]
  },
  {
   "cell_type": "code",
   "execution_count": 9,
   "metadata": {
    "scrolled": true
   },
   "outputs": [
    {
     "name": "stdout",
     "output_type": "stream",
     "text": [
      "            Predicted\n",
      "Actual       setosa versicolor virginica\n",
      "  setosa         33          0         0\n",
      "  versicolor      0         32         1\n",
      "  virginica       0          2        31\n",
      "\n",
      "Accuracy =  0.97 \n",
      " \n",
      "          setosa versicolor virginica\n",
      "Precision      1      0.970     0.939\n",
      "Recall         1      0.941     0.969\n",
      "F1             1      0.955     0.954\n"
     ]
    }
   ],
   "source": [
    "print_metrics = function(df, label){\n",
    "    ## Compute and print the confusion matrix\n",
    "    cm = as.matrix(table(Actual = df$Species, Predicted = df$scores))\n",
    "    print(cm)\n",
    "\n",
    "    ## Compute and print accuracy \n",
    "    accuracy = round(sum(sapply(1:nrow(cm), function(i) cm[i,i]))/sum(cm), 3)\n",
    "    cat('\\n')\n",
    "    cat(paste('Accuracy = ', as.character(accuracy)), '\\n \\n')                           \n",
    "\n",
    "    ## Compute and print precision, recall and F1\n",
    "    precision = sapply(1:nrow(cm), function(i) cm[i,i]/sum(cm[i,]))\n",
    "    recall = sapply(1:nrow(cm), function(i) cm[i,i]/sum(cm[,i]))    \n",
    "    F1 = sapply(1:nrow(cm), function(i) 2*(recall[i] * precision[i])/(recall[i] + precision[i]))    \n",
    "    metrics = sapply(c(precision, recall, F1), round, 3)        \n",
    "    metrics = t(matrix(metrics, nrow = nrow(cm), ncol = ncol(cm)))       \n",
    "    dimnames(metrics) = list(c('Precision', 'Recall', 'F1'), unique(test$Species))      \n",
    "    print(metrics)\n",
    "}  \n",
    "print_metrics(test, 'Species')      "
   ]
  },
  {
   "cell_type": "markdown",
   "metadata": {},
   "source": [
    "Examine these results. Notice the following:\n",
    "1. The confusion matrix has dimension 3X3. You can see that most cases are correctly classified. \n",
    "2. The overall accuracy is 0.94. Since the classes are roughly balanced, this metric indicates relatively good performance of the classifier, particularly since it was only trained on 51 cases. \n",
    "3. The precision, recall and  F1 for each of the classes is relatively good. Versicolor has the worst metrics since it has the largest number of misclassified cases. \n",
    "\n",
    "How important are each of the features for this model? The R Caret package provides the capability to find out. As a first step, `gbm` models must be trained using the the Caret `train` function. The code in the cell below does this, using the default model arguments. The default arguments for the model are specified with the `tuneGrid` argument of `train`. Execute the code."
   ]
  },
  {
   "cell_type": "code",
   "execution_count": 10,
   "metadata": {
    "scrolled": false
   },
   "outputs": [
    {
     "data": {
      "text/plain": [
       "Support Vector Machines with Linear Kernel \n",
       "\n",
       "51 samples\n",
       " 4 predictor\n",
       " 3 classes: 'setosa', 'versicolor', 'virginica' \n",
       "\n",
       "No pre-processing\n",
       "Resampling: Cross-Validated (10 fold) \n",
       "Summary of sample sizes: 46, 47, 46, 45, 46, 45, ... \n",
       "Resampling results:\n",
       "\n",
       "  Accuracy   Kappa    \n",
       "  0.9433333  0.9143382\n",
       "\n",
       "Tuning parameter 'C' was held constant at a value of 1"
      ]
     },
     "metadata": {},
     "output_type": "display_data"
    }
   ],
   "source": [
    "trControl <- trainControl(method = \"cv\", number = 10)\n",
    "\n",
    "svm_mod_train = train(factor(Species) ~ ., \n",
    "                      data = training, \n",
    "                      method = \"svmLinear\", \n",
    "                      verbose = FALSE,\n",
    "                      trControl = trControl,\n",
    "                      scale = FALSE, \n",
    "                      type = 'C-svc')\n",
    "svm_mod_train"
   ]
  },
  {
   "cell_type": "markdown",
   "metadata": {},
   "source": [
    "With the Caret model object trained, the feature importance can be computed and displayed. Execute this code and examine the results. "
   ]
  },
  {
   "cell_type": "code",
   "execution_count": 11,
   "metadata": {},
   "outputs": [
    {
     "data": {
      "text/html": [
       "<table>\n",
       "<caption>A data.frame: 4 × 3</caption>\n",
       "<thead>\n",
       "\t<tr><th></th><th scope=col>setosa</th><th scope=col>versicolor</th><th scope=col>virginica</th></tr>\n",
       "\t<tr><th></th><th scope=col>&lt;dbl&gt;</th><th scope=col>&lt;dbl&gt;</th><th scope=col>&lt;dbl&gt;</th></tr>\n",
       "</thead>\n",
       "<tbody>\n",
       "\t<tr><th scope=row>Sepal.Length</th><td>1.0000000</td><td>0.9826990</td><td>1.0000000</td></tr>\n",
       "\t<tr><th scope=row>Sepal.Width</th><td>0.8806228</td><td>0.8806228</td><td>0.8148789</td></tr>\n",
       "\t<tr><th scope=row>Petal.Length</th><td>1.0000000</td><td>1.0000000</td><td>1.0000000</td></tr>\n",
       "\t<tr><th scope=row>Petal.Width</th><td>1.0000000</td><td>1.0000000</td><td>1.0000000</td></tr>\n",
       "</tbody>\n",
       "</table>\n"
      ],
      "text/latex": [
       "A data.frame: 4 × 3\n",
       "\\begin{tabular}{r|lll}\n",
       "  & setosa & versicolor & virginica\\\\\n",
       "  & <dbl> & <dbl> & <dbl>\\\\\n",
       "\\hline\n",
       "\tSepal.Length & 1.0000000 & 0.9826990 & 1.0000000\\\\\n",
       "\tSepal.Width & 0.8806228 & 0.8806228 & 0.8148789\\\\\n",
       "\tPetal.Length & 1.0000000 & 1.0000000 & 1.0000000\\\\\n",
       "\tPetal.Width & 1.0000000 & 1.0000000 & 1.0000000\\\\\n",
       "\\end{tabular}\n"
      ],
      "text/markdown": [
       "\n",
       "A data.frame: 4 × 3\n",
       "\n",
       "| <!--/--> | setosa &lt;dbl&gt; | versicolor &lt;dbl&gt; | virginica &lt;dbl&gt; |\n",
       "|---|---|---|---|\n",
       "| Sepal.Length | 1.0000000 | 0.9826990 | 1.0000000 |\n",
       "| Sepal.Width | 0.8806228 | 0.8806228 | 0.8148789 |\n",
       "| Petal.Length | 1.0000000 | 1.0000000 | 1.0000000 |\n",
       "| Petal.Width | 1.0000000 | 1.0000000 | 1.0000000 |\n",
       "\n"
      ],
      "text/plain": [
       "             setosa    versicolor virginica\n",
       "Sepal.Length 1.0000000 0.9826990  1.0000000\n",
       "Sepal.Width  0.8806228 0.8806228  0.8148789\n",
       "Petal.Length 1.0000000 1.0000000  1.0000000\n",
       "Petal.Width  1.0000000 1.0000000  1.0000000"
      ]
     },
     "metadata": {},
     "output_type": "display_data"
    }
   ],
   "source": [
    "options(repr.plot.width=4, repr.plot.height=3)\n",
    "imp = varImp(svm_mod_train, scale = FALSE)$importance\n",
    "imp"
   ]
  },
  {
   "cell_type": "markdown",
   "metadata": {},
   "source": [
    "Examine the table above. Notice that `Sepal.Width` has the least importance for classifying each of the species. \n",
    "\n",
    "Next, you will train and evaluate a model using the three most important features by executing the code in the cell below.\n",
    "\n",
    "Execute this code, and answer **Question 1** on the course page."
   ]
  },
  {
   "cell_type": "code",
   "execution_count": 12,
   "metadata": {
    "scrolled": false
   },
   "outputs": [
    {
     "name": "stdout",
     "output_type": "stream",
     "text": [
      "            Predicted\n",
      "Actual       setosa versicolor virginica\n",
      "  setosa         33          0         0\n",
      "  versicolor      0         32         1\n",
      "  virginica       0          2        31\n",
      "\n",
      "Accuracy =  0.97 \n",
      " \n",
      "          setosa versicolor virginica\n",
      "Precision      1      0.970     0.939\n",
      "Recall         1      0.941     0.969\n",
      "F1             1      0.955     0.954\n"
     ]
    }
   ],
   "source": [
    "svm_mod_3 = svm(factor(Species) ~ Sepal.Length + Petal.Length + Petal.Width, data = training, \n",
    "                 scale = FALSE, type = 'C-classification')\n",
    "test[,'scores'] = predict(svm_mod, newdata = test)\n",
    "print_metrics(test, 'Species')  "
   ]
  },
  {
   "cell_type": "markdown",
   "metadata": {},
   "source": [
    "These results are identical to those obtained with the model with all features. The simpler model is preferred since it is likely to generalize better. \n",
    "\n",
    "The code in the cell below plots the classes of the iris flower along with the classification errors shown by shape. Execute this code and examine the results.  "
   ]
  },
  {
   "cell_type": "code",
   "execution_count": 13,
   "metadata": {},
   "outputs": [
    {
     "data": {
      "image/png": "[encoded data removed]",
      "text/plain": [
       "plot without title"
      ]
     },
     "metadata": {},
     "output_type": "display_data"
    }
   ],
   "source": [
    "## Create column of correct-incorrect classification\n",
    "test$correct = ifelse(test$Species == test$scores, 'correct', 'incorrect')\n",
    "\n",
    "single_plot_classes = function(df, colx, coly){\n",
    "    ggplot(df, aes_string(colx,coly)) +\n",
    "          geom_point(aes(color = factor(df$Species), shape = correct), alpha = 0.4)\n",
    "}\n",
    "\n",
    "plot_iris_classes = function(df){\n",
    "    options(repr.plot.width=8, repr.plot.height=5)\n",
    "    grid.arrange(\n",
    "        single_plot_classes(df, 'Sepal.Length', 'Sepal.Width'),\n",
    "        single_plot_classes(df, 'Sepal.Length', 'Petal.Length'),\n",
    "        single_plot_classes(df, 'Petal.Length', 'Petal.Width'),\n",
    "        single_plot_classes(df, 'Sepal.Width', 'Petal.Length'),\n",
    "        nrow = 2)\n",
    "}\n",
    "\n",
    "plot_iris_classes(test)"
   ]
  },
  {
   "cell_type": "markdown",
   "metadata": {},
   "source": [
    "Examine these plots. You can see how the classifier has divided the feature space between the classes. Notice that most of the errors occur in the overlap region between Virginica and Versicolor. This behavior is to be expected.  "
   ]
  },
  {
   "cell_type": "markdown",
   "metadata": {},
   "source": [
    "## Another example\n",
    "\n",
    "Now, you will try a more complex example using the credit scoring data. You will use the prepared data which has been prepared by removing duplicate cases. Some columns which are know not to be predictive are removed. Execute the code in the cell below to load the dataset for the example. "
   ]
  },
  {
   "cell_type": "code",
   "execution_count": 14,
   "metadata": {},
   "outputs": [
    {
     "name": "stdout",
     "output_type": "stream",
     "text": [
      "[1] 1000   16\n"
     ]
    },
    {
     "data": {
      "text/html": [
       "<ol class=list-inline>\n",
       "\t<li>'checking_account_status'</li>\n",
       "\t<li>'loan_duration_mo'</li>\n",
       "\t<li>'credit_history'</li>\n",
       "\t<li>'loan_amount'</li>\n",
       "\t<li>'savings_account_balance'</li>\n",
       "\t<li>'time_employed_yrs'</li>\n",
       "\t<li>'payment_pcnt_income'</li>\n",
       "\t<li>'time_in_residence'</li>\n",
       "\t<li>'property'</li>\n",
       "\t<li>'age_yrs'</li>\n",
       "\t<li>'other_credit_outstanding'</li>\n",
       "\t<li>'number_loans'</li>\n",
       "\t<li>'job_category'</li>\n",
       "\t<li>'dependents'</li>\n",
       "\t<li>'telephone'</li>\n",
       "\t<li>'bad_credit'</li>\n",
       "</ol>\n"
      ],
      "text/latex": [
       "\\begin{enumerate*}\n",
       "\\item 'checking\\_account\\_status'\n",
       "\\item 'loan\\_duration\\_mo'\n",
       "\\item 'credit\\_history'\n",
       "\\item 'loan\\_amount'\n",
       "\\item 'savings\\_account\\_balance'\n",
       "\\item 'time\\_employed\\_yrs'\n",
       "\\item 'payment\\_pcnt\\_income'\n",
       "\\item 'time\\_in\\_residence'\n",
       "\\item 'property'\n",
       "\\item 'age\\_yrs'\n",
       "\\item 'other\\_credit\\_outstanding'\n",
       "\\item 'number\\_loans'\n",
       "\\item 'job\\_category'\n",
       "\\item 'dependents'\n",
       "\\item 'telephone'\n",
       "\\item 'bad\\_credit'\n",
       "\\end{enumerate*}\n"
      ],
      "text/markdown": [
       "1. 'checking_account_status'\n",
       "2. 'loan_duration_mo'\n",
       "3. 'credit_history'\n",
       "4. 'loan_amount'\n",
       "5. 'savings_account_balance'\n",
       "6. 'time_employed_yrs'\n",
       "7. 'payment_pcnt_income'\n",
       "8. 'time_in_residence'\n",
       "9. 'property'\n",
       "10. 'age_yrs'\n",
       "11. 'other_credit_outstanding'\n",
       "12. 'number_loans'\n",
       "13. 'job_category'\n",
       "14. 'dependents'\n",
       "15. 'telephone'\n",
       "16. 'bad_credit'\n",
       "\n",
       "\n"
      ],
      "text/plain": [
       " [1] \"checking_account_status\"  \"loan_duration_mo\"        \n",
       " [3] \"credit_history\"           \"loan_amount\"             \n",
       " [5] \"savings_account_balance\"  \"time_employed_yrs\"       \n",
       " [7] \"payment_pcnt_income\"      \"time_in_residence\"       \n",
       " [9] \"property\"                 \"age_yrs\"                 \n",
       "[11] \"other_credit_outstanding\" \"number_loans\"            \n",
       "[13] \"job_category\"             \"dependents\"              \n",
       "[15] \"telephone\"                \"bad_credit\"              "
      ]
     },
     "metadata": {},
     "output_type": "display_data"
    }
   ],
   "source": [
    "credit = read.csv('German_Credit_Preped.csv', header = TRUE)\n",
    "## Subset the data frame\n",
    "credit = credit[,c('checking_account_status', 'loan_duration_mo', 'credit_history', 'loan_amount', 'savings_account_balance',\n",
    "                   'time_employed_yrs', 'payment_pcnt_income', 'time_in_residence', 'property', 'age_yrs',\n",
    "                   'other_credit_outstanding', 'number_loans', 'job_category', 'dependents', 'telephone', 'bad_credit' )]\n",
    "print(dim(credit))\n",
    "names(credit)"
   ]
  },
  {
   "cell_type": "markdown",
   "metadata": {},
   "source": [
    "Cross validation will be used to train the model. Since folds will be selected from the entire dataset the numeric features are scaled in batch. Execute the code in the cell below to accomplish this: "
   ]
  },
  {
   "cell_type": "code",
   "execution_count": 15,
   "metadata": {},
   "outputs": [
    {
     "data": {
      "text/html": [
       "<table>\n",
       "<caption>A data.frame: 6 × 7</caption>\n",
       "<thead>\n",
       "\t<tr><th scope=col>loan_duration_mo</th><th scope=col>loan_amount</th><th scope=col>payment_pcnt_income</th><th scope=col>time_in_residence</th><th scope=col>age_yrs</th><th scope=col>number_loans</th><th scope=col>dependents</th></tr>\n",
       "\t<tr><th scope=col>&lt;dbl&gt;</th><th scope=col>&lt;dbl&gt;</th><th scope=col>&lt;dbl&gt;</th><th scope=col>&lt;dbl&gt;</th><th scope=col>&lt;dbl&gt;</th><th scope=col>&lt;dbl&gt;</th><th scope=col>&lt;dbl&gt;</th></tr>\n",
       "</thead>\n",
       "<tbody>\n",
       "\t<tr><td>-1.2358595</td><td>-0.7447588</td><td> 0.91801781</td><td> 1.0464631</td><td> 2.76507291</td><td> 1.0265652</td><td>-0.4280754</td></tr>\n",
       "\t<tr><td> 2.2470700</td><td> 0.9493418</td><td>-0.86974813</td><td>-0.7655942</td><td>-1.19080809</td><td>-0.7045734</td><td>-0.4280754</td></tr>\n",
       "\t<tr><td>-0.7382981</td><td>-0.4163541</td><td>-0.86974813</td><td> 0.1404344</td><td> 1.18272051</td><td>-0.7045734</td><td> 2.3337012</td></tr>\n",
       "\t<tr><td> 1.7495086</td><td> 1.6334296</td><td>-0.86974813</td><td> 1.0464631</td><td> 0.83108664</td><td>-0.7045734</td><td> 2.3337012</td></tr>\n",
       "\t<tr><td> 0.2568246</td><td> 0.5663801</td><td> 0.02413484</td><td> 1.0464631</td><td> 1.53435438</td><td> 1.0265652</td><td> 2.3337012</td></tr>\n",
       "\t<tr><td> 1.2519473</td><td> 2.0489838</td><td>-0.86974813</td><td> 1.0464631</td><td>-0.04799802</td><td>-0.7045734</td><td> 2.3337012</td></tr>\n",
       "</tbody>\n",
       "</table>\n"
      ],
      "text/latex": [
       "A data.frame: 6 × 7\n",
       "\\begin{tabular}{r|lllllll}\n",
       " loan\\_duration\\_mo & loan\\_amount & payment\\_pcnt\\_income & time\\_in\\_residence & age\\_yrs & number\\_loans & dependents\\\\\n",
       " <dbl> & <dbl> & <dbl> & <dbl> & <dbl> & <dbl> & <dbl>\\\\\n",
       "\\hline\n",
       "\t -1.2358595 & -0.7447588 &  0.91801781 &  1.0464631 &  2.76507291 &  1.0265652 & -0.4280754\\\\\n",
       "\t  2.2470700 &  0.9493418 & -0.86974813 & -0.7655942 & -1.19080809 & -0.7045734 & -0.4280754\\\\\n",
       "\t -0.7382981 & -0.4163541 & -0.86974813 &  0.1404344 &  1.18272051 & -0.7045734 &  2.3337012\\\\\n",
       "\t  1.7495086 &  1.6334296 & -0.86974813 &  1.0464631 &  0.83108664 & -0.7045734 &  2.3337012\\\\\n",
       "\t  0.2568246 &  0.5663801 &  0.02413484 &  1.0464631 &  1.53435438 &  1.0265652 &  2.3337012\\\\\n",
       "\t  1.2519473 &  2.0489838 & -0.86974813 &  1.0464631 & -0.04799802 & -0.7045734 &  2.3337012\\\\\n",
       "\\end{tabular}\n"
      ],
      "text/markdown": [
       "\n",
       "A data.frame: 6 × 7\n",
       "\n",
       "| loan_duration_mo &lt;dbl&gt; | loan_amount &lt;dbl&gt; | payment_pcnt_income &lt;dbl&gt; | time_in_residence &lt;dbl&gt; | age_yrs &lt;dbl&gt; | number_loans &lt;dbl&gt; | dependents &lt;dbl&gt; |\n",
       "|---|---|---|---|---|---|---|\n",
       "| -1.2358595 | -0.7447588 |  0.91801781 |  1.0464631 |  2.76507291 |  1.0265652 | -0.4280754 |\n",
       "|  2.2470700 |  0.9493418 | -0.86974813 | -0.7655942 | -1.19080809 | -0.7045734 | -0.4280754 |\n",
       "| -0.7382981 | -0.4163541 | -0.86974813 |  0.1404344 |  1.18272051 | -0.7045734 |  2.3337012 |\n",
       "|  1.7495086 |  1.6334296 | -0.86974813 |  1.0464631 |  0.83108664 | -0.7045734 |  2.3337012 |\n",
       "|  0.2568246 |  0.5663801 |  0.02413484 |  1.0464631 |  1.53435438 |  1.0265652 |  2.3337012 |\n",
       "|  1.2519473 |  2.0489838 | -0.86974813 |  1.0464631 | -0.04799802 | -0.7045734 |  2.3337012 |\n",
       "\n"
      ],
      "text/plain": [
       "  loan_duration_mo loan_amount payment_pcnt_income time_in_residence\n",
       "1 -1.2358595       -0.7447588   0.91801781          1.0464631       \n",
       "2  2.2470700        0.9493418  -0.86974813         -0.7655942       \n",
       "3 -0.7382981       -0.4163541  -0.86974813          0.1404344       \n",
       "4  1.7495086        1.6334296  -0.86974813          1.0464631       \n",
       "5  0.2568246        0.5663801   0.02413484          1.0464631       \n",
       "6  1.2519473        2.0489838  -0.86974813          1.0464631       \n",
       "  age_yrs     number_loans dependents\n",
       "1  2.76507291  1.0265652   -0.4280754\n",
       "2 -1.19080809 -0.7045734   -0.4280754\n",
       "3  1.18272051 -0.7045734    2.3337012\n",
       "4  0.83108664 -0.7045734    2.3337012\n",
       "5  1.53435438  1.0265652    2.3337012\n",
       "6 -0.04799802 -0.7045734    2.3337012"
      ]
     },
     "metadata": {},
     "output_type": "display_data"
    }
   ],
   "source": [
    "num_cols = c('loan_duration_mo', 'loan_amount', 'payment_pcnt_income',\n",
    "             'time_in_residence', 'age_yrs', 'number_loans', 'dependents')\n",
    "\n",
    "preProcValues <- preProcess(credit[,num_cols], method = c(\"center\", \"scale\"))\n",
    "credit[,num_cols] = predict(preProcValues, credit[,num_cols])\n",
    "head(credit[,num_cols])"
   ]
  },
  {
   "cell_type": "markdown",
   "metadata": {},
   "source": [
    "The R Caret package computes most performance metrics using the positive cases. For example, recall is a measure of correct classification of positive cases. Therefore, it is important to have the coding of the label correct. The code in the cell below creates a factor (categorical) variable and coerces the levels of the label column, `bad_credit`. Execute this code. "
   ]
  },
  {
   "cell_type": "code",
   "execution_count": 16,
   "metadata": {},
   "outputs": [
    {
     "data": {
      "text/html": [
       "<ol class=list-inline>\n",
       "\t<li>good</li>\n",
       "\t<li>bad</li>\n",
       "\t<li>good</li>\n",
       "\t<li>good</li>\n",
       "\t<li>bad</li>\n",
       "</ol>\n",
       "\n",
       "<details>\n",
       "\t<summary style=display:list-item;cursor:pointer>\n",
       "\t\t<strong>Levels</strong>:\n",
       "\t</summary>\n",
       "\t<ol class=list-inline>\n",
       "\t\t<li>'bad'</li>\n",
       "\t\t<li>'good'</li>\n",
       "\t</ol>\n",
       "</details>"
      ],
      "text/latex": [
       "\\begin{enumerate*}\n",
       "\\item good\n",
       "\\item bad\n",
       "\\item good\n",
       "\\item good\n",
       "\\item bad\n",
       "\\end{enumerate*}\n",
       "\n",
       "\\emph{Levels}: \\begin{enumerate*}\n",
       "\\item 'bad'\n",
       "\\item 'good'\n",
       "\\end{enumerate*}\n"
      ],
      "text/markdown": [
       "1. good\n",
       "2. bad\n",
       "3. good\n",
       "4. good\n",
       "5. bad\n",
       "\n",
       "\n",
       "\n",
       "**Levels**: 1. 'bad'\n",
       "2. 'good'\n",
       "\n",
       "\n"
      ],
      "text/plain": [
       "[1] good bad  good good bad \n",
       "Levels: bad good"
      ]
     },
     "metadata": {},
     "output_type": "display_data"
    }
   ],
   "source": [
    "credit$bad_credit <- ifelse(credit$bad_credit == 1, 'bad', 'good')\n",
    "credit$bad_credit <- factor(credit$bad_credit, levels = c('bad', 'good'))\n",
    "credit$bad_credit[1:5]"
   ]
  },
  {
   "cell_type": "markdown",
   "metadata": {},
   "source": [
    "In the results above you can see the new coding of the label column along with the levels, {'bad', 'good'}. \n",
    "\n",
    "As the inner loop of a nested cross validation, the code in the cell below uses the capability of the R Caret package to estimate the best hyperparameters using 5 fold cross validation. This first cross validation is performed using ROC as the metric. There are a few points to note here:\n",
    "1. A Caret `trainControl` object is used to define the 5 fold cross validation. The `twoClassSummary` function is specified, making ROC the metric for hyperparameter optimization. The `svmRadial` model does accommodate case weights. However, in the case **down-sampling** or **under-sampling** is used. Down-sampling randomly samples the majority case so that the number of classes in each training fold is balanced. \n",
    "2. The model is trained using all features as can be seen from the model formula in the Caret `train` function. \n",
    "3. `ROC` is specified as a `metric` in the call to `train`. \n",
    "4. Weights are specified to help with the class imbalance and the cost imbalance of misclassification of bad credit customers. \n",
    "5. The `train` function uses a `tuneGrid` argument to define the hyperparameters to search. \n",
    "\n",
    "Execute this code and examine the result."
   ]
  },
  {
   "cell_type": "code",
   "execution_count": 18,
   "metadata": {},
   "outputs": [
    {
     "name": "stdout",
     "output_type": "stream",
     "text": [
      "Support Vector Machines with Radial Basis Function Kernel \n",
      "\n",
      "1000 samples\n",
      "  15 predictor\n",
      "   2 classes: 'bad', 'good' \n",
      "\n",
      "No pre-processing\n",
      "Resampling: Cross-Validated (5 fold) \n",
      "Summary of sample sizes: 800, 800, 800, 800, 800 \n",
      "Addtional sampling using down-sampling\n",
      "\n",
      "Resampling results across tuning parameters:\n",
      "\n",
      "  sigma  C    ROC        Sens       Spec     \n",
      "  0.002  0.5  0.7573571  0.7700000  0.6142857\n",
      "  0.002  1.0  0.7607143  0.7366667  0.6428571\n",
      "  0.002  2.0  0.7678810  0.7400000  0.6514286\n",
      "  0.020  0.5  0.7736905  0.7366667  0.6600000\n",
      "  0.020  1.0  0.7704762  0.7233333  0.6685714\n",
      "  0.020  2.0  0.7652857  0.7100000  0.6671429\n",
      "  0.200  0.5  0.6865714  0.4466667  0.7771429\n",
      "  0.200  1.0  0.7029762  0.6633333  0.6257143\n",
      "  0.200  2.0  0.6945714  0.6833333  0.6171429\n",
      "\n",
      "ROC was used to select the optimal model using the largest value.\n",
      "The final values used for the model were sigma = 0.02 and C = 0.5.\n"
     ]
    }
   ],
   "source": [
    "fitControl <- trainControl(method = \"cv\",\n",
    "                           number = 5,\n",
    "                           sampling = 'down',\n",
    "                           returnResamp=\"all\",\n",
    "                           savePredictions = TRUE,\n",
    "                           classProbs = TRUE,\n",
    "                           summaryFunction = twoClassSummary)\n",
    "paramGrid <- expand.grid(sigma = c(0.002, 0.02, 0.2), C = c(0.5, 1.0, 2.0))\n",
    "\n",
    "set.seed(1234)\n",
    "svm_fit_inside_tw <- train(bad_credit ~ ., \n",
    "                          data = credit,  \n",
    "                          method = \"svmRadial\", # Radil SVM model \n",
    "                          trControl = fitControl, \n",
    "                          tuneGrid = paramGrid, \n",
    "                          metric=\"ROC\")\n",
    "print(svm_fit_inside_tw)"
   ]
  },
  {
   "cell_type": "markdown",
   "metadata": {},
   "source": [
    "The grid of hyperpameters searched by the Caret package is over kernel span parameter `sigma` and cost parameter `C`. The grid along with the ROC and other metrics is shown in the printed table. \n",
    "\n",
    "The hyperparameter optimization can also be performed using Recall as a metric. The code in the cell below uses the `prSummary` function for the `summaryFunction` argument for `trainControl` and sets the `metric` as `Recall`. Execute this call and examine the results.    "
   ]
  },
  {
   "cell_type": "code",
   "execution_count": 19,
   "metadata": {},
   "outputs": [
    {
     "name": "stdout",
     "output_type": "stream",
     "text": [
      "Support Vector Machines with Radial Basis Function Kernel \n",
      "\n",
      "1000 samples\n",
      "  15 predictor\n",
      "   2 classes: 'bad', 'good' \n",
      "\n",
      "No pre-processing\n",
      "Resampling: Cross-Validated (5 fold) \n",
      "Summary of sample sizes: 800, 800, 800, 800, 800 \n",
      "Addtional sampling using down-sampling\n",
      "\n",
      "Resampling results across tuning parameters:\n",
      "\n",
      "  sigma  C    AUC        Precision  Recall     F        \n",
      "  0.002  0.5  0.5322242  0.4610423  0.7700000  0.5759065\n",
      "  0.002  1.0  0.5467558  0.4697866  0.7366667  0.5711554\n",
      "  0.002  2.0  0.5519583  0.4772759  0.7400000  0.5793265\n",
      "  0.020  0.5  0.5586543  0.4823599  0.7366667  0.5812096\n",
      "  0.020  1.0  0.5727739  0.4833629  0.7233333  0.5784975\n",
      "  0.020  2.0  0.5507775  0.4781459  0.7100000  0.5706042\n",
      "  0.200  0.5  0.4615579  0.4758948  0.4466667  0.4417640\n",
      "  0.200  1.0  0.4648685  0.4372733  0.6633333  0.5219147\n",
      "  0.200  2.0  0.4472021  0.4421629  0.6833333  0.5225634\n",
      "\n",
      "Recall was used to select the optimal model using the largest value.\n",
      "The final values used for the model were sigma = 0.002 and C = 0.5.\n"
     ]
    }
   ],
   "source": [
    "fitControl <- trainControl(method = \"cv\",\n",
    "                           number = 5,\n",
    "                           sampling = 'down',\n",
    "                           returnResamp=\"all\",\n",
    "                           savePredictions = TRUE,\n",
    "                           classProbs = TRUE,\n",
    "                           summaryFunction = prSummary)\n",
    "paramGrid <- expand.grid(sigma = c(0.002, 0.02, 0.2), C = c(0.5, 1.0, 2.0))\n",
    "\n",
    "set.seed(1234)\n",
    "svm_fit_inside_pr <- train(bad_credit ~ ., \n",
    "                          data = credit,  \n",
    "                          method = \"svmRadial\", # Radil SVM model \n",
    "                          trControl = fitControl, \n",
    "                          tuneGrid = paramGrid, \n",
    "                          metric=\"Recall\")\n",
    "print(svm_fit_inside_pr)"
   ]
  },
  {
   "cell_type": "markdown",
   "metadata": {},
   "source": [
    "These results are rather poor. The average AUC is barely above 0.5. It is best to stay with the model trained on ROC. \n",
    "\n",
    "Given the optimal hyperparameters for the model trained with ROC, which features are the most important? The code in the cell below computes and displays feature importance using the Caret `varImp` function. Execute this code and examine the results. "
   ]
  },
  {
   "cell_type": "code",
   "execution_count": 20,
   "metadata": {},
   "outputs": [
    {
     "name": "stdout",
     "output_type": "stream",
     "text": [
      "ROC curve variable importance\n",
      "\n",
      "                         Importance\n",
      "checking_account_status    100.0000\n",
      "loan_duration_mo            66.0075\n",
      "savings_account_balance     46.7896\n",
      "age_yrs                     35.9785\n",
      "credit_history              29.2654\n",
      "loan_amount                 27.8048\n",
      "payment_pcnt_income         21.8602\n",
      "time_employed_yrs           18.0645\n",
      "number_loans                12.3901\n",
      "other_credit_outstanding    12.1655\n",
      "job_category                 9.7083\n",
      "telephone                    9.4986\n",
      "property                     6.7181\n",
      "time_in_residence            0.1715\n",
      "dependents                   0.0000\n"
     ]
    },
    {
     "data": {
      "image/png": "[encoded data removed]",
      "text/plain": [
       "plot without title"
      ]
     },
     "metadata": {},
     "output_type": "display_data"
    }
   ],
   "source": [
    "options(repr.plot.width=8, repr.plot.height=6)\n",
    "var_imp = varImp(svm_fit_inside_tw)\n",
    "print(var_imp)\n",
    "plot(var_imp)"
   ]
  },
  {
   "cell_type": "markdown",
   "metadata": {},
   "source": [
    "It is clear that at least two of the features should be removed from the dataset. Execute the code in the cell below to use the dplyr `select` function to remove two features."
   ]
  },
  {
   "cell_type": "code",
   "execution_count": 21,
   "metadata": {},
   "outputs": [],
   "source": [
    "credit_reduced = select(credit, -time_in_residence, -dependents)"
   ]
  },
  {
   "cell_type": "markdown",
   "metadata": {},
   "source": [
    "Execute the code in the cell below to perform the cross validation grid search using ROC as the metric with the reduced feature set: "
   ]
  },
  {
   "cell_type": "code",
   "execution_count": 22,
   "metadata": {},
   "outputs": [
    {
     "name": "stdout",
     "output_type": "stream",
     "text": [
      "Support Vector Machines with Radial Basis Function Kernel \n",
      "\n",
      "1000 samples\n",
      "  13 predictor\n",
      "   2 classes: 'bad', 'good' \n",
      "\n",
      "No pre-processing\n",
      "Resampling: Cross-Validated (5 fold) \n",
      "Summary of sample sizes: 800, 800, 800, 800, 800 \n",
      "Addtional sampling using down-sampling\n",
      "\n",
      "Resampling results across tuning parameters:\n",
      "\n",
      "  sigma  C    ROC        Sens       Spec     \n",
      "  0.002  0.5  0.7601429  0.7666667  0.6228571\n",
      "  0.002  1.0  0.7622619  0.7366667  0.6500000\n",
      "  0.002  2.0  0.7685000  0.7566667  0.6628571\n",
      "  0.020  0.5  0.7755238  0.7466667  0.6571429\n",
      "  0.020  1.0  0.7711429  0.7233333  0.6785714\n",
      "  0.020  2.0  0.7646905  0.7333333  0.6842857\n",
      "  0.200  0.5  0.7041429  0.5333333  0.7471429\n",
      "  0.200  1.0  0.7165714  0.6800000  0.6171429\n",
      "  0.200  2.0  0.7027619  0.7033333  0.6228571\n",
      "\n",
      "ROC was used to select the optimal model using the largest value.\n",
      "The final values used for the model were sigma = 0.02 and C = 0.5.\n"
     ]
    }
   ],
   "source": [
    "fitControl <- trainControl(method = \"cv\",\n",
    "                           number = 5,\n",
    "                           sampling = 'down',\n",
    "                           returnResamp=\"all\",\n",
    "                           savePredictions = TRUE,\n",
    "                           classProbs = TRUE,\n",
    "                           summaryFunction = twoClassSummary)\n",
    "paramGrid <- expand.grid(sigma = c(0.002, 0.02, 0.2), C = c(0.5, 1.0, 2.0))\n",
    "\n",
    "set.seed(1234)\n",
    "svm_fit_inside_tw <- train(bad_credit ~ ., \n",
    "                          data = credit_reduced,  \n",
    "                          method = \"svmRadial\", # Radil SVM model \n",
    "                          trControl = fitControl, \n",
    "                          tuneGrid = paramGrid, \n",
    "                          metric=\"ROC\")\n",
    "print(svm_fit_inside_tw)"
   ]
  },
  {
   "cell_type": "markdown",
   "metadata": {},
   "source": [
    "The results of the cross validation grid search with the reduced feature set are nearly the same as the first result. Evidentially, pruning these features was the correct step. This process can be continued, but will not be in this lab in the interest of reducing length. \n",
    "\n",
    "To better understand the parameter sweep, execute the code in the cell below to create a chart."
   ]
  },
  {
   "cell_type": "code",
   "execution_count": 23,
   "metadata": {},
   "outputs": [
    {
     "name": "stdout",
     "output_type": "stream",
     "text": [
      "ROC curve variable importance\n",
      "\n",
      "                         Importance\n",
      "checking_account_status     100.000\n",
      "loan_duration_mo             63.559\n",
      "savings_account_balance      42.957\n",
      "age_yrs                      31.368\n",
      "credit_history               24.171\n",
      "loan_amount                  22.605\n",
      "payment_pcnt_income          16.233\n",
      "time_employed_yrs            12.164\n",
      "number_loans                  6.080\n",
      "other_credit_outstanding      5.840\n",
      "job_category                  3.206\n",
      "telephone                     2.981\n",
      "property                      0.000\n"
     ]
    },
    {
     "data": {
      "image/png": "[encoded data removed]",
      "text/plain": [
       "plot without title"
      ]
     },
     "metadata": {},
     "output_type": "display_data"
    }
   ],
   "source": [
    "options(repr.plot.width=8, repr.plot.height=6)\n",
    "var_imp = varImp(svm_fit_inside_tw)\n",
    "print(var_imp)\n",
    "plot(var_imp)"
   ]
  },
  {
   "cell_type": "markdown",
   "metadata": {},
   "source": [
    "In is clear that some of the features are not important to model performance. Execute the code in the cell below to prune the feature set using the dplyr `select` function:"
   ]
  },
  {
   "cell_type": "code",
   "execution_count": 24,
   "metadata": {},
   "outputs": [],
   "source": [
    "credit_reduced = select(credit, -telephone, -property, -job_category)"
   ]
  },
  {
   "cell_type": "markdown",
   "metadata": {},
   "source": [
    "Execute the code in the cell below to perform the cross validation grid search using the reduced feature set and the ROC metric: "
   ]
  },
  {
   "cell_type": "code",
   "execution_count": 25,
   "metadata": {},
   "outputs": [
    {
     "name": "stdout",
     "output_type": "stream",
     "text": [
      "Support Vector Machines with Radial Basis Function Kernel \n",
      "\n",
      "1000 samples\n",
      "  12 predictor\n",
      "   2 classes: 'bad', 'good' \n",
      "\n",
      "No pre-processing\n",
      "Resampling: Cross-Validated (5 fold) \n",
      "Summary of sample sizes: 800, 800, 800, 800, 800 \n",
      "Addtional sampling using down-sampling\n",
      "\n",
      "Resampling results across tuning parameters:\n",
      "\n",
      "  sigma  C    ROC        Sens       Spec     \n",
      "  0.002  0.5  0.7498333  0.7866667  0.6200000\n",
      "  0.002  1.0  0.7588571  0.7533333  0.6414286\n",
      "  0.002  2.0  0.7662857  0.7633333  0.6428571\n",
      "  0.020  0.5  0.7695476  0.7566667  0.6571429\n",
      "  0.020  1.0  0.7680714  0.7233333  0.6557143\n",
      "  0.020  2.0  0.7724048  0.7366667  0.6657143\n",
      "  0.200  0.5  0.6906905  0.6600000  0.6000000\n",
      "  0.200  1.0  0.6881905  0.6600000  0.6042857\n",
      "  0.200  2.0  0.6670238  0.6833333  0.6042857\n",
      "\n",
      "ROC was used to select the optimal model using the largest value.\n",
      "The final values used for the model were sigma = 0.02 and C = 2.\n"
     ]
    }
   ],
   "source": [
    "fitControl <- trainControl(method = \"cv\",\n",
    "                           number = 5,\n",
    "                           sampling = 'down',\n",
    "                           returnResamp=\"all\",\n",
    "                           savePredictions = TRUE,\n",
    "                           classProbs = TRUE,\n",
    "                           summaryFunction = twoClassSummary)\n",
    "paramGrid <- expand.grid(sigma = c(0.002, 0.02, 0.2), C = c(0.5, 1.0, 2.0))\n",
    "\n",
    "set.seed(1234)\n",
    "svm_fit_inside_tw <- train(bad_credit ~ ., \n",
    "                          data = credit_reduced,  \n",
    "                          method = \"svmRadial\", # Radil SVM model \n",
    "                          trControl = fitControl, \n",
    "                          tuneGrid = paramGrid, \n",
    "                          metric=\"ROC\")\n",
    "print(svm_fit_inside_tw)"
   ]
  },
  {
   "cell_type": "markdown",
   "metadata": {},
   "source": [
    "The results of the cross validation grid search with the reduced feature set are nearly the same as the first result. Evidentially, pruning these features was the correct step. This process can be continued, but will not be in this lab in the interest of reducing length. \n",
    "\n",
    "To better understand the parameter sweep, execute the code in the cell below to create a chart."
   ]
  },
  {
   "cell_type": "code",
   "execution_count": 26,
   "metadata": {},
   "outputs": [
    {
     "data": {
      "image/png": "[encoded data removed]",
      "text/plain": [
       "plot without title"
      ]
     },
     "metadata": {},
     "output_type": "display_data"
    }
   ],
   "source": [
    "options(repr.plot.width=5, repr.plot.height=4)\n",
    "trellis.par.set(caretTheme())\n",
    "plot(svm_fit_inside_tw)  "
   ]
  },
  {
   "cell_type": "markdown",
   "metadata": {},
   "source": [
    "Notice that at the low end of the range of sigma values none of the cost values really matter. It is often the case with model selection that only one or two hyperparameters have much of an effect. \n",
    "\n",
    "Finally, to verify that the model will generalize well it is time to perform the outside CV loop. The code in the cell below defines a parameter grid with just the optimal hyperparameter values. The CV then repeatedly fits the model with these hyperparameter values. \n",
    "\n",
    "Execute this code, examine the result, and answer **Question 3** on the course page."
   ]
  },
  {
   "cell_type": "code",
   "execution_count": 27,
   "metadata": {},
   "outputs": [
    {
     "data": {
      "text/html": [
       "<table>\n",
       "<caption>A data.frame: 7 × 6</caption>\n",
       "<thead>\n",
       "\t<tr><th scope=col>ROC</th><th scope=col>Sens</th><th scope=col>Spec</th><th scope=col>sigma</th><th scope=col>C</th><th scope=col>Resample</th></tr>\n",
       "\t<tr><th scope=col>&lt;dbl&gt;</th><th scope=col>&lt;dbl&gt;</th><th scope=col>&lt;dbl&gt;</th><th scope=col>&lt;chr&gt;</th><th scope=col>&lt;chr&gt;</th><th scope=col>&lt;chr&gt;</th></tr>\n",
       "</thead>\n",
       "<tbody>\n",
       "\t<tr><td>0.755</td><td>0.700</td><td>0.664</td><td>0.02</td><td>0.5</td><td>Fold1</td></tr>\n",
       "\t<tr><td>0.802</td><td>0.800</td><td>0.664</td><td>0.02</td><td>0.5</td><td>Fold2</td></tr>\n",
       "\t<tr><td>0.743</td><td>0.750</td><td>0.607</td><td>0.02</td><td>0.5</td><td>Fold3</td></tr>\n",
       "\t<tr><td>0.749</td><td>0.683</td><td>0.707</td><td>0.02</td><td>0.5</td><td>Fold4</td></tr>\n",
       "\t<tr><td>0.800</td><td>0.817</td><td>0.621</td><td>0.02</td><td>0.5</td><td>Fold5</td></tr>\n",
       "\t<tr><td>0.770</td><td>0.750</td><td>0.653</td><td>0.02</td><td>0.5</td><td>Mean </td></tr>\n",
       "\t<tr><td>0.029</td><td>0.059</td><td>0.040</td><td>0.02</td><td>0.5</td><td>STD  </td></tr>\n",
       "</tbody>\n",
       "</table>\n"
      ],
      "text/latex": [
       "A data.frame: 7 × 6\n",
       "\\begin{tabular}{r|llllll}\n",
       " ROC & Sens & Spec & sigma & C & Resample\\\\\n",
       " <dbl> & <dbl> & <dbl> & <chr> & <chr> & <chr>\\\\\n",
       "\\hline\n",
       "\t 0.755 & 0.700 & 0.664 & 0.02 & 0.5 & Fold1\\\\\n",
       "\t 0.802 & 0.800 & 0.664 & 0.02 & 0.5 & Fold2\\\\\n",
       "\t 0.743 & 0.750 & 0.607 & 0.02 & 0.5 & Fold3\\\\\n",
       "\t 0.749 & 0.683 & 0.707 & 0.02 & 0.5 & Fold4\\\\\n",
       "\t 0.800 & 0.817 & 0.621 & 0.02 & 0.5 & Fold5\\\\\n",
       "\t 0.770 & 0.750 & 0.653 & 0.02 & 0.5 & Mean \\\\\n",
       "\t 0.029 & 0.059 & 0.040 & 0.02 & 0.5 & STD  \\\\\n",
       "\\end{tabular}\n"
      ],
      "text/markdown": [
       "\n",
       "A data.frame: 7 × 6\n",
       "\n",
       "| ROC &lt;dbl&gt; | Sens &lt;dbl&gt; | Spec &lt;dbl&gt; | sigma &lt;chr&gt; | C &lt;chr&gt; | Resample &lt;chr&gt; |\n",
       "|---|---|---|---|---|---|\n",
       "| 0.755 | 0.700 | 0.664 | 0.02 | 0.5 | Fold1 |\n",
       "| 0.802 | 0.800 | 0.664 | 0.02 | 0.5 | Fold2 |\n",
       "| 0.743 | 0.750 | 0.607 | 0.02 | 0.5 | Fold3 |\n",
       "| 0.749 | 0.683 | 0.707 | 0.02 | 0.5 | Fold4 |\n",
       "| 0.800 | 0.817 | 0.621 | 0.02 | 0.5 | Fold5 |\n",
       "| 0.770 | 0.750 | 0.653 | 0.02 | 0.5 | Mean  |\n",
       "| 0.029 | 0.059 | 0.040 | 0.02 | 0.5 | STD   |\n",
       "\n"
      ],
      "text/plain": [
       "  ROC   Sens  Spec  sigma C   Resample\n",
       "1 0.755 0.700 0.664 0.02  0.5 Fold1   \n",
       "2 0.802 0.800 0.664 0.02  0.5 Fold2   \n",
       "3 0.743 0.750 0.607 0.02  0.5 Fold3   \n",
       "4 0.749 0.683 0.707 0.02  0.5 Fold4   \n",
       "5 0.800 0.817 0.621 0.02  0.5 Fold5   \n",
       "6 0.770 0.750 0.653 0.02  0.5 Mean    \n",
       "7 0.029 0.059 0.040 0.02  0.5 STD     "
      ]
     },
     "metadata": {},
     "output_type": "display_data"
    }
   ],
   "source": [
    "paramGrid <- expand.grid(sigma = c(0.02), C = c(0.5))\n",
    "\n",
    "set.seed(1234)\n",
    "svm_fit_outside_tw <- train(bad_credit ~ ., \n",
    "                          data = credit_reduced,  \n",
    "                          method = \"svmRadial\", # Radial SVM model \n",
    "                          trControl = fitControl, \n",
    "                          tuneGrid = paramGrid, \n",
    "                          trace = FALSE,\n",
    "                          metric=\"ROC\")\n",
    "\n",
    "print_metrics = function(mod){\n",
    "    means = c(apply(mod$resample[,1:3], 2, mean), sigma = mod$resample[1,4], C = mod$resample[1,5], Resample = 'Mean')\n",
    "    stds = c(apply(mod$resample[,1:3], 2, sd), sigma = mod$resample[1,4], C = mod$resample[1,5], Resample = 'STD')\n",
    "    out = rbind(mod$resample, means, stds)\n",
    "    out[,1:3] = lapply(out[,1:3], function(x) round(as.numeric(x), 3))\n",
    "    out\n",
    "}\n",
    "print_metrics(svm_fit_outside_tw)"
   ]
  },
  {
   "cell_type": "markdown",
   "metadata": {},
   "source": [
    "Examine these results. Notice that the standard deviation of the mean of the AUC are nearly an order of magnitude smaller than the mean. This indicates that this model is likely to generalize well. \n",
    "\n",
    "***\n",
    "**Note:** The predict method can be used with this optimal model to classify unknown cases.\n",
    "***"
   ]
  },
  {
   "cell_type": "markdown",
   "metadata": {},
   "source": [
    "## Summary\n",
    "\n",
    "In this lab you have accomplished the following:\n",
    "1. Used a radial support vector machine to classify the cases of the iris data. This model produced quite good results. \n",
    "2. Used 5 fold to find estimated optimal hyperparameters for an svmRadial model to classify credit risk cases. The model trained using ROC as the metric performed reasonably well.\n",
    "3. Applied down-sampling of the majority cases to create a balanced training dataset and retrained and evaluated the model. \n",
    "4. Applied feature importance was used for feature selection. The model created and evaluated with the reduced feature set had essentially the same performance as the model with more features. \n",
    "5. Used the outer loop of the nested cross validation to demonstrate that the model is likely to generalize."
   ]
  },
  {
   "cell_type": "code",
   "execution_count": null,
   "metadata": {},
   "outputs": [],
   "source": []
  }
 ],
 "metadata": {
  "kernelspec": {
   "display_name": "R",
   "language": "R",
   "name": "ir"
  },
  "language_info": {
   "codemirror_mode": "r",
   "file_extension": ".r",
   "mimetype": "text/x-r-source",
   "name": "R",
   "pygments_lexer": "r",
   "version": "3.6.1"
  }
 },
 "nbformat": 4,
 "nbformat_minor": 2
}
